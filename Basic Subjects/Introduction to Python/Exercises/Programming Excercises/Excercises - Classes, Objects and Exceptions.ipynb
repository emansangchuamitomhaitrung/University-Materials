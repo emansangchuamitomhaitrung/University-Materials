{
 "cells": [
  {
   "cell_type": "markdown",
   "id": "28a6129d",
   "metadata": {},
   "source": [
    "# Classes, Objects and Exceptions "
   ]
  },
  {
   "cell_type": "markdown",
   "id": "48b8abcb",
   "metadata": {},
   "source": [
    "## Part 1. Figure class"
   ]
  },
  {
   "cell_type": "markdown",
   "id": "87ed4d69",
   "metadata": {},
   "source": [
    "### Exercise 1\n",
    "Write 3 classes named Rectangle, Circle and Triangle that overwrite the perimeter and area methods of class Figure. You should also write initialization method for each class\n",
    "\n",
    "- Rectangle should have 2 attributes: width and height\n",
    "- Circle should have 1 attribute: radius\n",
    "- Triangle should have 3 attributes: a, b and c, which are the lengths of 3 sides\n",
    "\n",
    "Exception:\n",
    "\n",
    "- Raise LengthException if any of the attributes above is less than or equal to 0\n",
    "- Raise InvalidTriangleException if the 3 lengths do not create a valid triangle\n",
    "\n",
    "When an exception is caught (except LengthException as e:), print out the message that contains the type of that exception: print(str(type(e)) + ' was raised)"
   ]
  },
  {
   "cell_type": "markdown",
   "id": "2c59327a",
   "metadata": {},
   "source": [
    "### Excercise 2\n",
    "Write 3 methods inside Triangle class to get the heights of the triangle. It should be named get_height_a, get_height_b, and get_height_c"
   ]
  },
  {
   "cell_type": "markdown",
   "id": "9b538422",
   "metadata": {},
   "source": [
    "### Excercise 3\n",
    "Write 2 methods set_width and set_height inside class Rectangle to change the width and height of the rectangle object"
   ]
  },
  {
   "cell_type": "markdown",
   "id": "1fb5e5ec",
   "metadata": {},
   "source": [
    "### Excercise 4\n",
    "Define a new class Square that inherits from class Rectangle. Write ONLY THE INITIALIZATION METHOD for that class with one input parameter (which is the side of the square), so that the methods perimeter and area can still be used. The Square class still uses the attributes width and height from the class Rectangle. The class Rectangle is inside Rectangle.py (code from the previous exercise) which has already been uploaded to the system."
   ]
  },
  {
   "cell_type": "code",
   "execution_count": null,
   "id": "1c15b9d2",
   "metadata": {},
   "outputs": [],
   "source": [
    "from Rectangle import Rectangle\n",
    "\n",
    "class Square(Rectangle):\n",
    "    # YOUR CODE HERE"
   ]
  },
  {
   "cell_type": "markdown",
   "id": "b89736e1",
   "metadata": {},
   "source": [
    "### Excercise 5\n",
    "Rewrite set_width and set_height methods so that when either one of the methods is used, the side of the Square object can be changed"
   ]
  },
  {
   "cell_type": "code",
   "execution_count": null,
   "id": "f27167af",
   "metadata": {},
   "outputs": [],
   "source": [
    "from Rectangle import Rectangle\n",
    "\n",
    "class Square(Rectangle):\n",
    "    # YOUR CODE HERE"
   ]
  },
  {
   "cell_type": "code",
   "execution_count": 6,
   "id": "12ff3f5c",
   "metadata": {},
   "outputs": [
    {
     "name": "stdout",
     "output_type": "stream",
     "text": [
      "9\n",
      "36\n",
      "3.0\n",
      "6.0\n"
     ]
    }
   ],
   "source": [
    "import math\n",
    "\n",
    "\n",
    "class Figure:\n",
    "    def perimeter(self):\n",
    "        pass\n",
    "\n",
    "    def area(self):\n",
    "        pass\n",
    "\n",
    "class LengthException(Exception):\n",
    "    pass\n",
    "\n",
    "class InvalidTriangleException(Exception):\n",
    "    pass\n",
    "\n",
    "class Rectangle(Figure):\n",
    "        def __init__(self, width, height):\n",
    "            try:\n",
    "                if width <= 0 or height <= 0:\n",
    "                    raise LengthException\n",
    "            except LengthException as e:\n",
    "                print(str(type(e)) + ' was raised')\n",
    "            self.width = width\n",
    "            self.height = height\n",
    "    def area(self):\n",
    "        return self.width * self.height\n",
    "    def perimeter(self):\n",
    "        return (self.width + self.height) * 2\n",
    "    def set_width(self, w):\n",
    "        self.width = w\n",
    "    def set_height(self, h):\n",
    "        self.height = h\n",
    "\n",
    "class Circle(Figure):\n",
    "    def __init__(self, radius):\n",
    "        try:\n",
    "            if radius <= 0:\n",
    "                raise LengthException\n",
    "        except LengthException as e:\n",
    "            print(str(type(e)) + ' was raised')\n",
    "        self.radius = radius\n",
    "    def area(self):\n",
    "        return math.pi * self.radius ** 2\n",
    "    def perimeter(self):\n",
    "        return 2 * math.pi * self.radius\n",
    "\n",
    "class Triangle(Figure):\n",
    "    def __init__(self, a, b, c):\n",
    "        try:\n",
    "            if a <= 0 or b <= 0 or c <= 0:\n",
    "                raise LengthException\n",
    "            if (a + b <= c) or (a + c <= b) or (b + c <= a):\n",
    "                raise InvalidTriangleException\n",
    "        except LengthException as e:\n",
    "            print(str(type(e)) + ' was raised')\n",
    "        except InvalidTriangleException as err:\n",
    "            print(str(type(err)) + ' was raised')\n",
    "        self.a = a\n",
    "        self.b = b\n",
    "        self.c = c\n",
    "    def area(self):\n",
    "        return math.sqrt(4 * (self.a ** 2) * (self.b ** 2) - ((self.a) ** 2 + (self.b) ** 2  - (self.c) ** 2) ** 2) / 4\n",
    "    def perimeter(self):\n",
    "        return self.a + self.b + self.c\n",
    "    def get_height_a(self):\n",
    "        return Triangle.area(self) * 2 / self.a\n",
    "    def get_height_b(self):\n",
    "        return Triangle.area(self)  * 2 / self.b\n",
    "    def get_height_c(self):\n",
    "        return Triangle.area(self) * 2 / self.c\n",
    "\n",
    "class Square(Rectangle):\n",
    "    def __init__(self, a):\n",
    "        super().__init__(a, a)\n",
    "    def set_height(self, h):\n",
    "        self.width = h\n",
    "        self.height = h\n",
    "    def set_width(self, w):\n",
    "        self.width = w\n",
    "        self.height = w\n",
    "\n"
   ]
  },
  {
   "cell_type": "markdown",
   "id": "2a1510bd",
   "metadata": {},
   "source": [
    "## Part 2. Data Analysis in Python "
   ]
  },
  {
   "cell_type": "code",
   "execution_count": 1,
   "id": "5bb7f4f9",
   "metadata": {},
   "outputs": [
    {
     "name": "stdout",
     "output_type": "stream",
     "text": [
      "Requirement already satisfied: scikit-learn in /Library/Frameworks/Python.framework/Versions/3.8/lib/python3.8/site-packages (0.24.2)\n",
      "Requirement already satisfied: numpy>=1.13.3 in /Library/Frameworks/Python.framework/Versions/3.8/lib/python3.8/site-packages (from scikit-learn) (1.20.3)\n",
      "Requirement already satisfied: joblib>=0.11 in /Library/Frameworks/Python.framework/Versions/3.8/lib/python3.8/site-packages (from scikit-learn) (1.0.1)\n",
      "Requirement already satisfied: scipy>=0.19.1 in /Library/Frameworks/Python.framework/Versions/3.8/lib/python3.8/site-packages (from scikit-learn) (1.7.0)\n",
      "Requirement already satisfied: threadpoolctl>=2.0.0 in /Library/Frameworks/Python.framework/Versions/3.8/lib/python3.8/site-packages (from scikit-learn) (2.1.0)\n"
     ]
    }
   ],
   "source": [
    "!pip install -U scikit-learn"
   ]
  },
  {
   "cell_type": "markdown",
   "id": "8742e918",
   "metadata": {},
   "source": [
    "In this exercise, a dataset about real estate real_estate.csv is given. Class DataPreprocessing preprocess data for further analysis. Two classes **LinearRegression** and **PolynomialRegression** will be used for analysis of this dataset.\n",
    "First, we import all the necessary libraries for data processing, visualization and analysis:\n",
    "\n",
    "- **pandas** is used for reading data from .csv file into a dataframe\n",
    "- **numpy** is used for getting information from dataframe and further processing\n",
    "- **matplotlib** is used for data visualization\n",
    "- **sklearn** is a library with multiple tools for data preprocessing and analysis. For your information (you do not need to use this library in your work), in this exercise we use:\n",
    "    - **PolynomialFeatures** to add additional attributes to the data\n",
    "    - **LinearRegression** to learn the best fit line/curve for our predictive model\n",
    "    - **train_test_split** to split the data you have preprocessed into data for training model and for testing model"
   ]
  },
  {
   "cell_type": "code",
   "execution_count": 2,
   "id": "0964c5ed",
   "metadata": {},
   "outputs": [],
   "source": [
    "import numpy as np\n",
    "import matplotlib.pyplot as plt\n",
    "import pandas as pd\n",
    "from sklearn.linear_model import LinearRegression\n",
    "from sklearn.preprocessing import PolynomialFeatures\n",
    "from sklearn.model_selection import train_test_split"
   ]
  },
  {
   "cell_type": "markdown",
   "id": "7c725a22",
   "metadata": {},
   "source": [
    "### Excercise 6\n",
    "(You should read the .ipynb file before doing the last 5 exercises)\n",
    "\n",
    "In the first part of this exercise, you are given a prewritten class **DataPreprocessing**. The job is to fulfill all the necessary methods for the class. The file real_estate.csv is already uploaded to the system.\n",
    "\n",
    "Write method **set_attributes_and_output** to take data from the dataframe, put the attributes into **self.X** and the output into **self.y**. Note: self.X and self.y should be 2D and 1D numpy array"
   ]
  },
  {
   "cell_type": "code",
   "execution_count": 3,
   "id": "8a7a5d27",
   "metadata": {},
   "outputs": [],
   "source": [
    "import numpy as np\n",
    "import pandas as pd\n",
    "\n",
    "\n",
    "class DataPreprocessing():\n",
    "    def __init__(self):\n",
    "        # Auto initialize necessary attributes of the object\n",
    "        self.dataframe = None\n",
    "        self.X = None\n",
    "        self.y = None\n",
    "\n",
    "    def read_from_csv(self):\n",
    "        # Read data from .csv file into the dataframe and display the first 5 rows\n",
    "        df = pd.read_csv('real_estate.csv', index_col='No')\n",
    "        self.dataframe = df\n",
    "\n",
    "    def set_attributes_and_output(self):\n",
    "        # Set X and y to data attributes and output from the dataframe\n",
    "        self.X = self.dataframe.values[:,:-1] # fetch data of all rows and columns. except the last column\n",
    "        self.y = self.dataframe.values[:,-1]  # fetch data of all rows, last column only\n",
    "\n",
    "    "
   ]
  },
  {
   "cell_type": "markdown",
   "id": "715668c5",
   "metadata": {},
   "source": [
    "### Excercise 7\n",
    "(For your reference: https://scikit-learn.org/stable/modules/generated/sklearn.model_selection.train_test_split.html)\n",
    "\n",
    "\n",
    "\n",
    "Use the method **train_test_split** from **sklearn.model_selection**, write **method final_train_test_data** to split the X and y data into training and testing data. Parameters of **final_train_test_data**:\n",
    "\n",
    "\n",
    "\n",
    "**attributes_list**: the attributes that you want to take (0 -> 5, correspond to X1 -> X6). Default to all attributes: 0,1,2,3,4,5\n",
    "\n",
    "**test_size**: the size/percentage of the testing data in X and y data. Default to 0.2"
   ]
  },
  {
   "cell_type": "code",
   "execution_count": null,
   "id": "f279684a",
   "metadata": {},
   "outputs": [],
   "source": [
    "import numpy as np\n",
    "import pandas as pd\n",
    "from sklearn.model_selection import train_test_split\n",
    "\n",
    "class DataPreprocessing():\n",
    "    def __init__(self):\n",
    "        # Auto initialize necessary attributes of the object\n",
    "        self.dataframe = None\n",
    "        self.X = None\n",
    "        self.y = None\n",
    "\n",
    "    def read_from_csv(self):\n",
    "        # Read data from .csv file into the dataframe and display the first 5 rows\n",
    "        df = pd.read_csv('real_estate.csv', index_col='No')\n",
    "        self.dataframe = df\n",
    "\n",
    "    def set_attributes_and_output(self):\n",
    "        # Set X and y to data attributes and output from the dataframe\n",
    "        self.X = self.dataframe.values[:,:-1] # fetch data of all rows and columns. except the last column\n",
    "        self.y = self.dataframe.values[:,-1]  # fetch data of all rows, last column only\n",
    "    def final_train_test_data(self, attributes_list=[0,1,2,3,4,5], test_size=0.2):\n",
    "        # Split the data X and output y into training data and testing data\n",
    "        # Output: a tuple (X_train, X_test, y_train, y_test), using train_test_split with random_state=42\n",
    "        return train_test_split(self.X[:,attributes_list], # fetch data of all rows, with columns indexed in the list 'attributes_list'\n",
    "                                self.y, random_state=42, test_size = test_size)\n"
   ]
  },
  {
   "cell_type": "markdown",
   "id": "03cd0321",
   "metadata": {},
   "source": [
    "### Excercise 8\n",
    "(You should read the .ipynb file before doing the next exercises)\n",
    "\n",
    "In the second part of this exercise, we are about to use 2 machine learning models: **Linear Regression** and **Polynomial Regression** to learn about the features of the training dataset, so that if we are given new data about a house, we can use the model to predict it.\n",
    "\n",
    "\n",
    "\n",
    "You do not need to know the implementation inside **sklearn.linear_model.LinearRegression** to do this exercise; just see it as a black box for data analysis.\n",
    "\n",
    "\n",
    "\n",
    "Complete the **mean_square_error** method in **BaseClassRegressionAnalysis** to compare the prediction to the real output. The result does not need to be rounded \n",
    "\n",
    "\n",
    "\n",
    "For example, if the real output is np.array([1, 0, 1, 0, 1]) and your prediction is np.array([2, -1, 0, 1, 2]), then the mean square error is 1"
   ]
  },
  {
   "cell_type": "code",
   "execution_count": null,
   "id": "380510cd",
   "metadata": {},
   "outputs": [],
   "source": [
    "import numpy as np\n",
    "from sklearn.linear_model import LinearRegression\n",
    "from sklearn.model_selection import train_test_split\n",
    "from sklearn.metrics import mean_squared_error\n",
    "class BaseClassRegressionAnalysis():\n",
    "    def __init__(self):\n",
    "        # Initialize a regressor, which will handle the LinearRegression model \n",
    "        self.regressor = LinearRegression()\n",
    "    \n",
    "    def fit(self, X, y):\n",
    "        # The regressor learn from the training data with input X and output y\n",
    "        self.regressor.fit(X, y)\n",
    "        \n",
    "    def predict(self, X):\n",
    "        # The regressor predict the result with input X (after being trained)\n",
    "        # The output has the same size as output y\n",
    "        return self.regressor.predict(X)\n",
    "    \n",
    "    def mean_square_error(self, y_real, y_predict):\n",
    "        # Compare the 2 output vectors: real output and prediction, using mean square error\n",
    "        return mean_squared_error(y_real, y_predict)\n"
   ]
  },
  {
   "cell_type": "markdown",
   "id": "92630c03",
   "metadata": {},
   "source": [
    "### Excercise 9\n",
    "\n",
    "These are the steps for analysis of preprocessed real_estate.csv data (from exercise 9) using ?**LinearRegressionAnalysis** class above:\n",
    "\n"
   ]
  },
  {
   "cell_type": "code",
   "execution_count": null,
   "id": "b54d8715",
   "metadata": {},
   "outputs": [],
   "source": [
    "# Step 1: Initialize a regressor (a model) to learn from data\n",
    "lr = LinearRegressionAnalysis()\n",
    "# Step 2: The regressor will learn from the input and output of training data\n",
    "lr.fit(X_train, y_train)\n",
    "# Step 3: After learning from training data, the model will make a prediction based on input testing data\n",
    "y_pred = lr.predict(X_test)\n",
    "# Step 4: Comparision and visualization\n",
    "print('First 10 instances prediction (rounded to 1 decimal place):', np.array([round(i, 1) for i in y_pred[:10]]))\n",
    "print('Real output of first 10 instances (rounded to 1 decimal place):', y_test[:10])\n",
    "print('Mean square error:', lr.mean_square_error(y_test, y_pred)) "
   ]
  },
  {
   "cell_type": "markdown",
   "id": "31eaa93e",
   "metadata": {},
   "source": [
    "Create training and testing dataset using the implementation of **final_train_test_data** from the exercise above (Prac5.8) (The file that contains the **DataPreprocessing** class has already been uploaded to the system). Your input should consist of only 3 attributes from the original dataframe: *X3 distance to the nearest MRT station, X5 latitude, X6 longitude*. Split the training and testing dataset with the size of testing data being **20%**. The output should be a tuple **(X_train, X_test, y_train, y_test)**\n",
    "\n",
    "Then create a polynomial regressor with the degree of 2 for analysis of the data and output with the same format above (The file that contains **BaseClassRegressionAnalysis, LinearRegressionAnalysis, PolynomialRegressionAnalysis** has already been uploaded to the system)"
   ]
  },
  {
   "cell_type": "code",
   "execution_count": null,
   "id": "ef6dbb14",
   "metadata": {},
   "outputs": [],
   "source": [
    "import numpy as np\n",
    "from datapreprocess import DataPreprocessing\n",
    "from regression import  PolynomialRegressionAnalysis\n",
    "\n",
    "dp = DataPreprocessing()\n",
    "dp.read_from_csv()\n",
    "dp.set_attributes_and_output()\n",
    "# YOUR CODE FOR CREATING (X_train, X_test, y_train, y_test)\n",
    "\n",
    "# Step 1: Initialize a polynomial regressor with degree 2 (a model) to learn from data\n",
    "pr = PolynomialRegressionAnalysis(2)\n",
    "\n",
    "# Step 2: The regressor will learn from the input and output of training data\n",
    "X_train, X_test, y_train, y_test = dp.final_train_test_data(attributes_list = [2, 4, 5], test_size = 0.2)\n",
    "pr.fit(X_train, y_train)\n",
    "# Step 3: After learning from training data, the model will make a prediction based on input testing data\n",
    "y_pred = pr.predict(X_test)\n",
    "\n",
    "# Step 4: Comparision and visualization\n",
    "print('First 10 instances prediction (rounded to 1 decimal place):', np.array([round(i, 1) for i in y_pred[:10]]))\n",
    "print('Real output of first 10 instances (rounded to 1 decimal place):', y_test[:10])\n",
    "print('Mean square error (rounded to 1 decimal place):', round(pr.mean_square_error(y_test, y_pred),1))\n"
   ]
  }
 ],
 "metadata": {
  "kernelspec": {
   "display_name": "Python 3",
   "language": "python",
   "name": "python3"
  },
  "language_info": {
   "codemirror_mode": {
    "name": "ipython",
    "version": 3
   },
   "file_extension": ".py",
   "mimetype": "text/x-python",
   "name": "python",
   "nbconvert_exporter": "python",
   "pygments_lexer": "ipython3",
   "version": "3.8.8"
  }
 },
 "nbformat": 4,
 "nbformat_minor": 5
}
