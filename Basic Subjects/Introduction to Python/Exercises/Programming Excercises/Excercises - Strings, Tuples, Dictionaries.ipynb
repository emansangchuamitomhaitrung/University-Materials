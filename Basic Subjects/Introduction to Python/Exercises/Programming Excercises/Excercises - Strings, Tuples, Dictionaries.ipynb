{
 "cells": [
  {
   "cell_type": "markdown",
   "id": "3dc611b5",
   "metadata": {},
   "source": [
    "# Strings, Tuples, List and Dictionaries Excercises"
   ]
  },
  {
   "cell_type": "markdown",
   "id": "1bbe5acb",
   "metadata": {},
   "source": [
    "## Part 1. Strings"
   ]
  },
  {
   "cell_type": "markdown",
   "id": "fa65710c",
   "metadata": {},
   "source": [
    "### Excercise 1\n",
    "Exercise 1\n",
    "Write a program to print a string consists of every second character of the string in reverse order starting from the last one and with the first character in the result string capitalized\n",
    "\n",
    "Example: \n",
    "Input: abcdefg, Output: Geca"
   ]
  },
  {
   "cell_type": "code",
   "execution_count": 7,
   "id": "b9c45272",
   "metadata": {},
   "outputs": [
    {
     "name": "stdout",
     "output_type": "stream",
     "text": [
      "abcdeg\n",
      "Gdb\n"
     ]
    }
   ],
   "source": [
    "s = str(input())\n",
    "print(s[::-2].capitalize())"
   ]
  },
  {
   "cell_type": "markdown",
   "id": "5cf4acec",
   "metadata": {},
   "source": [
    "### Excercise 2\n",
    "In naming convention of some languages, variables are often named using Camel case convention (for example: ArrayOfNumber), while in other languages (including Python), variables are named using Snake case convention (for example: array_of_number)\n",
    "Write a program to convert a string from Snake case to Camel case\n",
    "\n",
    "Example: Input: array_of_number, Output: ArrayOfNumber"
   ]
  },
  {
   "cell_type": "code",
   "execution_count": 2,
   "id": "66e5217c",
   "metadata": {},
   "outputs": [
    {
     "name": "stdout",
     "output_type": "stream",
     "text": [
      "array_of_number\n",
      "ArrayOfNumber\n"
     ]
    }
   ],
   "source": [
    "s = input()\n",
    "s = s.split('_')\n",
    "res = ''\n",
    "for i in s:\n",
    "    res += i.capitalize()\n",
    "print(res)"
   ]
  },
  {
   "cell_type": "markdown",
   "id": "1ee56031",
   "metadata": {},
   "source": [
    "### Excercise 3\n",
    "Write a program to remove all the uneccessary spaces from a string, including leading, trailing whitespaces and multiple whitespaces in the middle of the sentence"
   ]
  },
  {
   "cell_type": "code",
   "execution_count": 3,
   "id": "783d9752",
   "metadata": {},
   "outputs": [
    {
     "name": "stdout",
     "output_type": "stream",
     "text": [
      "    Hello   World from   Vietnam      \n",
      "Hello World from Vietnam \n"
     ]
    }
   ],
   "source": [
    "s = input()\n",
    "s = s.split()\n",
    "res = ''\n",
    "for i in s:\n",
    "    res += i + ' '\n",
    "print(res)"
   ]
  },
  {
   "cell_type": "markdown",
   "id": "c06688ad",
   "metadata": {},
   "source": [
    "### Excercise 4\n",
    "Write a function that return the mirror image of a string if that mirror image is still a valid string. Otherwise, return \"NOT POSSIBLE\"\n",
    "Note: b,d, i, o, p, q, v, w, x are characters with the mirror images still valid English characters\n",
    "\n",
    "Example: Input: void, Output: biov"
   ]
  },
  {
   "cell_type": "code",
   "execution_count": 4,
   "id": "7223a380",
   "metadata": {},
   "outputs": [
    {
     "name": "stdout",
     "output_type": "stream",
     "text": [
      "void\n",
      "biov\n"
     ]
    }
   ],
   "source": [
    "def mirror(s):\n",
    "    mir = {'b': 'd', 'd': 'b', 'i': 'i', 'o': 'o','p': 'q', 'v': 'v', 'w': 'w', 'x': 'x'}\n",
    "    try:\n",
    "        return ''.join(mir[i] for i in reversed(s))\n",
    "    except KeyError:\n",
    "        return 'NOT POSSIBLE'\n",
    "\n",
    "print(mirror(input()))"
   ]
  },
  {
   "cell_type": "markdown",
   "id": "5fa1b810",
   "metadata": {},
   "source": [
    "## Part 2. Tuples, lists and dictionaries"
   ]
  },
  {
   "cell_type": "markdown",
   "id": "fdd215f3",
   "metadata": {},
   "source": [
    "###  Part 2.1. ***Basic Tuples, lists and dictionaries***"
   ]
  },
  {
   "cell_type": "markdown",
   "id": "d95b3f62",
   "metadata": {},
   "source": [
    "### Excercise 5"
   ]
  },
  {
   "cell_type": "markdown",
   "id": "a5538447",
   "metadata": {},
   "source": [
    "Write a function to remove all consecutive duplicates in a list and return the new list\n",
    "\n",
    "Example:\\ Input\n",
    "[1, 0, 0, 1, 2, 3, 4, 4, 5, 6, 6, 6, 7, 8, 9, 4, 4, 5, 5]\n",
    "\n",
    "Output\n",
    "[1, 0, 1, 2, 3, 4, 5, 6, 7, 8, 9, 4, 5]"
   ]
  },
  {
   "cell_type": "code",
   "execution_count": 9,
   "id": "f7604672",
   "metadata": {},
   "outputs": [
    {
     "name": "stdout",
     "output_type": "stream",
     "text": [
      "[1, 0, 1, 2, 3, 4, 5, 6, 7, 8, 9, 4, 5]\n"
     ]
    }
   ],
   "source": [
    "def remove_duplicates(lst):\n",
    "    i = 0\n",
    "    while i < len(lst) - 1:\n",
    "        if lst[i] == lst[i + 1]:\n",
    "            del lst[i]\n",
    "        else:\n",
    "            i += 1\n",
    "    return lst\n",
    "lst =  [1, 0, 0, 1, 2, 3, 4, 4, 5, 6, 6, 6, 7, 8, 9, 4, 4, 5, 5]\n",
    "lst = RemoveDuplicates(lst)\n",
    "print(lst)\n"
   ]
  },
  {
   "cell_type": "markdown",
   "id": "8ba3a95d",
   "metadata": {},
   "source": [
    "### Excercise 6\n",
    "Write a program to read 2 matrices and output their sum. Example:\n",
    "\n",
    "**Input** (the first line contains 2 dimensions M * N of each matrix, the next M lines contains the first matrix and the last M lines contains the second matrix)\n",
    "\n",
    "2 3\n",
    "\n",
    "1 2 3\n",
    "\n",
    "4 5 6\n",
    "\n",
    "7 8 9\n",
    "\n",
    "10 11 12\n",
    "\n",
    "**Output**\n",
    "\n",
    "8 10 12\n",
    "\n",
    "14 16 18"
   ]
  },
  {
   "cell_type": "code",
   "execution_count": 18,
   "id": "3914f3ee",
   "metadata": {},
   "outputs": [
    {
     "name": "stdout",
     "output_type": "stream",
     "text": [
      "2 3\n",
      "1 2 3\n",
      "4 5 6\n",
      "7 8 9\n",
      "10 11 12\n",
      "8 10 12\n",
      "14 16 18\n"
     ]
    }
   ],
   "source": [
    "temp = input().split(' ')\n",
    "m, n = int(temp[0]), int(temp[1])\n",
    "\n",
    "a = []\n",
    "b = []\n",
    "for i in range(m):\n",
    "    a.append(list(map(int, input().split(' '))))\n",
    "for i in range(m):\n",
    "    b.append(list(map(int, input().split(' '))))\n",
    "res = [[a[i][j] + b[i][j] for j in range(n)] for i in range(m)]\n",
    "for i in range(m):\n",
    "    print(*res[i])"
   ]
  },
  {
   "cell_type": "markdown",
   "id": "53ffc446",
   "metadata": {},
   "source": [
    "### Excercise 7\n",
    "Write a function to sort the list of tuples of students by the students' scores. If they have the same scores, sort the students by their names.\n",
    "Example:\\ \n",
    "\n",
    "**Input**\n",
    "[('John', 9.75), ('Max', 9.5), ('James', 9.5), ('Henry', 8.5)]\n",
    "\n",
    "**Output**\n",
    "[('Henry', 8.5), ('James', 9.5), ('Max', 9.5), ('John', 9.75)]\n",
    "\n",
    "***Hint***: use sorted function with key for quick sorting (or implement your own sort function"
   ]
  },
  {
   "cell_type": "code",
   "execution_count": null,
   "id": "8dbc4a11",
   "metadata": {},
   "outputs": [],
   "source": [
    "l = [('John', 9.75), ('Max', 9.5), ('James', 9.5), ('Henry', 8.5)]\n",
    "def sort_students(l):\n",
    "    l1 = sorted(l, key = lambda x: (x[1], x[0]))\n",
    "    return l1\n",
    "\n",
    "print(sort_students(l))"
   ]
  },
  {
   "cell_type": "markdown",
   "id": "6958b8a9",
   "metadata": {},
   "source": [
    "### Excercise 8\n",
    "Write a fuction that return a dictionary of each character frequency in the string\n"
   ]
  },
  {
   "cell_type": "code",
   "execution_count": 11,
   "id": "fcaf39b9",
   "metadata": {},
   "outputs": [
    {
     "name": "stdout",
     "output_type": "stream",
     "text": [
      "233131232qdasasdasfasd\n",
      "{'2': 3, '3': 4, '1': 2, 'q': 1, 'd': 3, 'a': 4, 's': 4, 'f': 1}\n"
     ]
    }
   ],
   "source": [
    "def dictionary_convert(s):\n",
    "    d = {}\n",
    "    for i in s:\n",
    "        if i in d:\n",
    "            d[i] += 1\n",
    "        else:\n",
    "            d[i] = 1\n",
    "    return d\n",
    "\n",
    "print(dictionary_convert(input()))"
   ]
  },
  {
   "cell_type": "markdown",
   "id": "0f8040eb",
   "metadata": {},
   "source": [
    "### Part 2.2. *List comprehension*"
   ]
  },
  {
   "cell_type": "markdown",
   "id": "5f8e9b1a",
   "metadata": {},
   "source": [
    "### Excercise 9\n",
    "Write a function using list comprehension that takes a list as input and return the list with all even numbers doubled, and all odd numbers turned negative\n",
    "Example:\\ \n",
    "\n",
    "**Input**\n",
    "[32, 56, 99, -40, 20, 78, 43, -61, 61]\n",
    "\n",
    "**Output**\n",
    "[64, 112, -99, -80, 40, 156, -43, 61, -61]"
   ]
  },
  {
   "cell_type": "code",
   "execution_count": 20,
   "id": "8d239be1",
   "metadata": {},
   "outputs": [
    {
     "name": "stdout",
     "output_type": "stream",
     "text": [
      "[64, 112, -99, -80, 40, 156, -43, 61, -61]\n"
     ]
    }
   ],
   "source": [
    "def trans(l):\n",
    "    return [l[i] * 2 if l[i] % 2 == 0 else -l[i] for i in range(len(l))]\n",
    "\n",
    "l = [32, 56, 99, -40, 20, 78, 43, -61, 61]\n",
    "print(trans(l))"
   ]
  },
  {
   "cell_type": "markdown",
   "id": "bc35bccc",
   "metadata": {},
   "source": [
    "### Excercise 10\n",
    "Write a program using list comprehension that print a matrix consists of increasing element (starting from 1), given its dimension. Example:\\ \n",
    "\n",
    "**Input:**\n",
    "\n",
    "4 3\n",
    "\n",
    "**Output:**\n",
    "\n",
    "1 2 3\n",
    "\n",
    "4 5 6\n",
    "\n",
    "7 8 9\n",
    "\n",
    "10 11 12"
   ]
  },
  {
   "cell_type": "code",
   "execution_count": 1,
   "id": "58ab3d4b",
   "metadata": {},
   "outputs": [
    {
     "name": "stdout",
     "output_type": "stream",
     "text": [
      "4 3\n",
      "1 2 3 \n",
      "4 5 6 \n",
      "7 8 9 \n",
      "10 11 12 \n"
     ]
    }
   ],
   "source": [
    "tmp = input().split(' ')\n",
    "m, n = int(tmp[0]), int(tmp[1])\n",
    "lst = [[i + j for i in range(1, n + 1)] for j in range(0, (m * n), n)] \n",
    "for i in lst:\n",
    "    for k in i:\n",
    "        print(k, end=' ')\n",
    "    print()"
   ]
  },
  {
   "cell_type": "markdown",
   "id": "9cda754f",
   "metadata": {
    "collapsed": true
   },
   "source": [
    "### Excercise 11\n",
    "Write a program using list comprehension that return the Caesar encryption of a lowercase string, given the shift length. \n",
    "\n",
    "**Note:** in Caesar encryption, each letter is shifted to the right in the alphabet by a distance (if the end of the alphabet is reached, the shift will start over from letter a/A)\n",
    "\n",
    "Example:\\\n",
    "**Input**\n",
    "\n",
    "3\n",
    "\n",
    "the quick brown fox jumps over the lazy dog\n",
    "\n",
    "**Output**\n",
    "\n",
    "wkh txlfn eurzq ira mxpsv ryhu wkh odcb grj"
   ]
  },
  {
   "cell_type": "code",
   "execution_count": 26,
   "id": "c436c8f6",
   "metadata": {},
   "outputs": [
    {
     "name": "stdout",
     "output_type": "stream",
     "text": [
      "wkh txlfn eurzq ira mxpsv ryhu wkh odcb grj\n"
     ]
    }
   ],
   "source": [
    "s = 'the quick brown fox jumps over the lazy dog'\n",
    "n = 3\n",
    "print(''.join([' ' if c == ' ' else chr(ord('a') + (ord(c) - ord('a') + n) % 26) for c in s]))"
   ]
  }
 ],
 "metadata": {
  "kernelspec": {
   "display_name": "Python 3",
   "language": "python",
   "name": "python3"
  },
  "language_info": {
   "codemirror_mode": {
    "name": "ipython",
    "version": 3
   },
   "file_extension": ".py",
   "mimetype": "text/x-python",
   "name": "python",
   "nbconvert_exporter": "python",
   "pygments_lexer": "ipython3",
   "version": "3.8.8"
  }
 },
 "nbformat": 4,
 "nbformat_minor": 5
}
