{
 "cells": [
  {
   "cell_type": "markdown",
   "id": "5c4f2aba",
   "metadata": {},
   "source": [
    "# Control Flow Excercises"
   ]
  },
  {
   "cell_type": "markdown",
   "id": "9a2651fd",
   "metadata": {},
   "source": [
    "## Part 1: Conditional Statements"
   ]
  },
  {
   "cell_type": "markdown",
   "id": "03668b5a",
   "metadata": {},
   "source": [
    "### Excercise 1\n",
    "Write a program to display the number of days in a month, given the month and the year"
   ]
  },
  {
   "cell_type": "code",
   "execution_count": 2,
   "id": "e0272f84",
   "metadata": {},
   "outputs": [
    {
     "name": "stdout",
     "output_type": "stream",
     "text": [
      "2\n",
      "2020\n",
      "29\n"
     ]
    }
   ],
   "source": [
    "# Excercise 1\n",
    "month = int(input())\n",
    "year = int(input())\n",
    "\n",
    "if month == 2:\n",
    "    if year % 100 == 0:\n",
    "        if year % 400 == 0:\n",
    "            print(29)\n",
    "        else:\n",
    "            print(28)\n",
    "    else:\n",
    "        if year % 4 == 0:\n",
    "            print(29)\n",
    "        else:\n",
    "            print(28)\n",
    "elif month == 4 or month == 6 or month == 9 or month == 11:\n",
    "    print(30)\n",
    "else:\n",
    "    print(31)"
   ]
  },
  {
   "cell_type": "markdown",
   "id": "9b1382bc",
   "metadata": {},
   "source": [
    "### Excercise 2\n",
    "Write a program to determine if 3 distinct points create an acute, right, obtuse triangle or a straight line, given the coordinates of the points\n",
    "In [ ]:\n"
   ]
  },
  {
   "cell_type": "markdown",
   "id": "ae44eaf8",
   "metadata": {},
   "source": [
    "Excercise 2: Ideas\n",
    "Line: $$\\dfrac{y_a-y_b}{x_a-x_b} = \\dfrac{y_c-y_b}{x_c-x_b} $$ \n",
    "Assume the longest line is c.\n",
    "Then we have the following inequality:\n",
    "- if the triangle is obtuse:\n",
    "$$a^2 + b^2 < c^2$$ \n",
    "- if the triangle is right:\n",
    "$$a^2 + b^2 = c^2$$ \n",
    "- if the triangle is acute:\n",
    "$$a^2 + b^2 > c^2$$ \n",
    "\n"
   ]
  },
  {
   "cell_type": "code",
   "execution_count": 7,
   "id": "2895d236",
   "metadata": {},
   "outputs": [
    {
     "name": "stdout",
     "output_type": "stream",
     "text": [
      "0 0 0 3 4 0\n",
      "Right\n"
     ]
    }
   ],
   "source": [
    "# Excercise 2\n",
    "ax, ay, bx, by, cx, cy = [float(i) for i in input().split()]\n",
    "\n",
    "a2 = (bx - cx) ** 2 + (by - cy) ** 2\n",
    "b2 = (cx - ax) ** 2 + (cy - ay) ** 2\n",
    "c2 = (ax - bx) ** 2 + (ay - by) ** 2\n",
    "\n",
    "if abs((ax-bx)*(cy-by) - (ay-by)*(cx - bx)) < 1e-8: \n",
    "    #close enough - avoid machinary approximation\n",
    "    print('Line')\n",
    "else: \n",
    "    x = min(a2 + b2, b2 + c2, c2 + a2)\n",
    "    y = max(a2, b2, c2)\n",
    "    if abs(x - y) < 1e-8: \n",
    "        print('Right') #Tam giac vuong\n",
    "    elif x < y:\n",
    "        print('Obtuse') #Tam giac tu\n",
    "    else:\n",
    "        print('Acute') #Tam giac nhon\n"
   ]
  },
  {
   "cell_type": "markdown",
   "id": "d60bbc95",
   "metadata": {},
   "source": [
    "## Part 2: Loops"
   ]
  },
  {
   "cell_type": "markdown",
   "id": "290a7e95",
   "metadata": {},
   "source": [
    "### Excercise 4\n",
    "The Collatz conjecture is a conjecture in mathematics that concerns a sequence defined as follows: start with any positive integer n. If the previous term is even, the next term is one half of the previous term. If the previous term is odd, the next term is 3 times the previous term plus 1. The conjecture is that no matter what value of n, the sequence will always reach 1.\n",
    "For instance, starting with n = 12, one gets the sequence 12, 6, 3, 10, 5, 16, 8, 4, 2, 1.\n",
    "Given the starting number, print the value of all the numbers in its path to 1"
   ]
  },
  {
   "cell_type": "code",
   "execution_count": 2,
   "id": "863f0a71",
   "metadata": {},
   "outputs": [
    {
     "name": "stdout",
     "output_type": "stream",
     "text": [
      "12\n",
      "12 6 3 10 5 16 8 4 2 1 "
     ]
    }
   ],
   "source": [
    "n = int(input())\n",
    "print(n, end= \" \")\n",
    "while n != 1:\n",
    "    i = int()\n",
    "    if n % 2 == 0:\n",
    "        i = n // 2\n",
    "    else:\n",
    "        i = int(n * 3 + 1)\n",
    "    print(i, end= \" \")\n",
    "    n = i\n",
    "        \n",
    "    "
   ]
  },
  {
   "cell_type": "markdown",
   "id": "dba7e00e",
   "metadata": {},
   "source": [
    "### Excercise 5 \n",
    "Write a program to check if an integer is a prime number or not\n"
   ]
  },
  {
   "cell_type": "code",
   "execution_count": 6,
   "id": "aeff0bb3",
   "metadata": {},
   "outputs": [
    {
     "name": "stdout",
     "output_type": "stream",
     "text": [
      "4\n",
      "Not prime\n"
     ]
    }
   ],
   "source": [
    "import math\n",
    "n = int(input())\n",
    "if n > 1:\n",
    "    for i in range(2, n):\n",
    "        if n % i == 0:\n",
    "            print('Not prime')\n",
    "            break\n",
    "        else:\n",
    "            print('Prime')\n",
    "            \n",
    "else:\n",
    "    print('Not prime')"
   ]
  },
  {
   "cell_type": "markdown",
   "id": "850b8d5a",
   "metadata": {},
   "source": [
    "### Excercise 6\n",
    "Print a shape that looks like the one below, given the height\n",
    "\n"
   ]
  },
  {
   "cell_type": "code",
   "execution_count": 15,
   "id": "82b82ac3",
   "metadata": {},
   "outputs": [
    {
     "name": "stdout",
     "output_type": "stream",
     "text": [
      "5\n",
      "____/\\____\n",
      "___/  \\___\n",
      "__/    \\__\n",
      "_/      \\_\n",
      "/        \\\n"
     ]
    }
   ],
   "source": [
    "n = int(input())\n",
    "for i in range(n, 0, -1):\n",
    "    shift_bar_left = '_' * (i - 1) + '/'\n",
    "    shift_bar_right = '_' * (i - 1)\n",
    "\n",
    "    print(shift_bar_left + ' ' * (2 * n - 2 * i ) + '\\\\' + shift_bar_right)\n"
   ]
  },
  {
   "cell_type": "markdown",
   "id": "3cc5ba2c",
   "metadata": {},
   "source": [
    "### Excercise 7\n",
    "One way of computing square roots is Newton's method. Suppose that you want to know the square root of a. If you start with (almost) any estimate x, then you can get a better estimate with the formula: y = (x + a/x)/2\n",
    "\n",
    "Given a non-negative number a, compute the square root of that number using Newton's method with the precision of 0.0000001"
   ]
  },
  {
   "cell_type": "code",
   "execution_count": 20,
   "id": "8e40d54a",
   "metadata": {},
   "outputs": [
    {
     "name": "stdout",
     "output_type": "stream",
     "text": [
      "15\n",
      "3.872983346207418\n"
     ]
    }
   ],
   "source": [
    "from math import sqrt\n",
    "a = float(input()) #a = true sqrt\n",
    "x = a / 2.0  #x = initial approximation\n",
    "result = float()\n",
    "while True:\n",
    "    y = (x + a/x) / 2.0  #y = better approximation\n",
    "    if abs(x - y) < 0.0000001:\n",
    "        result = y\n",
    "        break\n",
    "    else:\n",
    "        x = y\n",
    "\n",
    "print(result)\n"
   ]
  },
  {
   "cell_type": "markdown",
   "id": "5cf24eb8",
   "metadata": {},
   "source": [
    "# Homework"
   ]
  },
  {
   "cell_type": "markdown",
   "id": "03110865",
   "metadata": {},
   "source": [
    "### Excercise 8"
   ]
  },
  {
   "cell_type": "markdown",
   "id": "9223ba41",
   "metadata": {},
   "source": [
    "Using the code from exercise 7 and math.sqrt function from math library, print a table that describe the differences between the estimation in each step and the value computed by math.sqrt function"
   ]
  },
  {
   "cell_type": "code",
   "execution_count": null,
   "id": "035d4d49",
   "metadata": {},
   "outputs": [],
   "source": [
    "from math import sqrt\n",
    "a = float(input()) #a = true sqrt\n",
    "x = a / 2.0  #x = initial approximation\n",
    "for i in range(0, 100):\n",
    "    if i == 0:\n",
    "        print('Step' + ' ' * 5 + 'Value' + ' ' * 5 + 'Difference')\n",
    "    else:\n",
    "        while True:\n",
    "            y = (x + a/x) / 2.0  #y = better approximation\n",
    "    \n",
    "            if abs(x - y) < 0.0000001:\n",
    "            break\n",
    "\n",
    "        print(i, ' ' * 5 + y + abs(y - sqrt(x)))\n",
    "\n"
   ]
  }
 ],
 "metadata": {
  "kernelspec": {
   "display_name": "Python 3",
   "language": "python",
   "name": "python3"
  },
  "language_info": {
   "codemirror_mode": {
    "name": "ipython",
    "version": 3
   },
   "file_extension": ".py",
   "mimetype": "text/x-python",
   "name": "python",
   "nbconvert_exporter": "python",
   "pygments_lexer": "ipython3",
   "version": "3.8.5"
  }
 },
 "nbformat": 4,
 "nbformat_minor": 5
}
