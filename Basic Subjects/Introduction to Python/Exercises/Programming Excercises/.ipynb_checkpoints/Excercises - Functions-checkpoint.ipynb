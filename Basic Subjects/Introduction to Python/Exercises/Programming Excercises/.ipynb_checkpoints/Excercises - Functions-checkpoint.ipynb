{
 "cells": [
  {
   "cell_type": "markdown",
   "id": "73b9b7be",
   "metadata": {},
   "source": [
    "# Functions Excercises"
   ]
  },
  {
   "cell_type": "markdown",
   "id": "3fba8d97",
   "metadata": {},
   "source": [
    "## Part 1. Function"
   ]
  },
  {
   "cell_type": "markdown",
   "id": "b19f77ca",
   "metadata": {},
   "source": [
    "### Excercise 1\n",
    "In number theory, a perfect number is a positive integer that is equal to the sum of its proper positive divisors, that is, the sum of its positive divisors excluding the number itself.\\ Write a function to check whether a number is a perfect number or not\n"
   ]
  },
  {
   "cell_type": "code",
   "execution_count": 2,
   "id": "38e7e184",
   "metadata": {},
   "outputs": [
    {
     "name": "stdout",
     "output_type": "stream",
     "text": [
      "8\n",
      "False\n"
     ]
    }
   ],
   "source": [
    "def is_perfect(n):\n",
    "    sum = 0\n",
    "    for i in range(1, n):\n",
    "        if n % i == 0:\n",
    "            sum += i\n",
    "    if n == sum:\n",
    "        return True\n",
    "    else:\n",
    "        return False\n",
    "    \n",
    "    \n",
    "print(is_perfect(int(input())))\n",
    "    "
   ]
  },
  {
   "cell_type": "markdown",
   "id": "ec75eede",
   "metadata": {},
   "source": [
    "### Excercise 2\n",
    "Write a Python function to print the first nth lines (n > 0) of the Pascal triangle. Note: you can define additional functions for better use"
   ]
  },
  {
   "cell_type": "code",
   "execution_count": 5,
   "id": "a4a48151",
   "metadata": {},
   "outputs": [
    {
     "name": "stdout",
     "output_type": "stream",
     "text": [
      "5\n",
      "1 \n",
      "1 1 \n",
      "1 2 1 \n",
      "1 3 3 1 \n",
      "1 4 6 4 1 \n",
      "1 5 10 10 5 1 \n",
      " \n"
     ]
    }
   ],
   "source": [
    "from math import factorial\n",
    "\n",
    "\n",
    "def pascal_triangle(n):\n",
    "\n",
    "    for i in range(0, n + 1):\n",
    "        for j in range(0, i + 1):\n",
    "            ele = int((factorial(i)/(factorial(j) * factorial(i-j))))\n",
    "\n",
    "            print(ele, end=' ')\n",
    "        print()\n",
    "\n",
    "    return ' '\n",
    "print(pascal_triangle(int(input())))\n",
    "            \n",
    "        "
   ]
  },
  {
   "cell_type": "markdown",
   "id": "c2b14bea",
   "metadata": {},
   "source": [
    "### Excercise 3\n",
    "Write a function to print all the prime numbers less than a given number. Note: you can define additional functions for better use"
   ]
  },
  {
   "cell_type": "code",
   "execution_count": 7,
   "id": "d46989db",
   "metadata": {},
   "outputs": [
    {
     "name": "stdout",
     "output_type": "stream",
     "text": [
      "9\n",
      "2\n",
      "3\n",
      "5\n",
      "7\n",
      "\n"
     ]
    }
   ],
   "source": [
    "def prime(n):\n",
    "    if n < 1:\n",
    "        return False\n",
    "    elif n > 1:\n",
    "        for i in range(2, n):\n",
    "            if n % i == 0:\n",
    "                return False\n",
    "    return True\n",
    "\n",
    "\n",
    "def printprime(n):\n",
    "    for i in range(2, n):\n",
    "        if prime(i):\n",
    "            print(i)\n",
    "    return ''\n",
    "\n",
    "\n",
    "print(printprime(int(input())))"
   ]
  },
  {
   "cell_type": "code",
   "execution_count": 9,
   "id": "8abc0ba5",
   "metadata": {},
   "outputs": [
    {
     "name": "stdout",
     "output_type": "stream",
     "text": [
      "9\n",
      "2\n",
      "3\n",
      "5\n",
      "7\n"
     ]
    }
   ],
   "source": [
    "#Sieve of Eratosthenes\n",
    "def prime(n):\n",
    "    prime = [True for i in range(n + 1)]\n",
    "    p = 2\n",
    "    while (p < n**(1/2)):\n",
    "        if prime[p] == True:\n",
    "            for i in range(p * 2, n, p):\n",
    "                prime[i] = False\n",
    "            p += 1\n",
    "        prime[0] = False\n",
    "        prime[1] = False\n",
    "        for p in range(n):\n",
    "            if prime[p]:\n",
    "                print(p)\n",
    "\n",
    "prime(int(input()))"
   ]
  },
  {
   "cell_type": "markdown",
   "id": "5079f804",
   "metadata": {},
   "source": [
    "### Excercise 4\n",
    "Write a function to find the greatest commmon divisor of 2 positive integers"
   ]
  },
  {
   "cell_type": "code",
   "execution_count": 14,
   "id": "e7999c15",
   "metadata": {},
   "outputs": [
    {
     "name": "stdout",
     "output_type": "stream",
     "text": [
      "12\n",
      "8\n",
      "4\n"
     ]
    }
   ],
   "source": [
    "a = int(input())\n",
    "b = int(input())\n",
    "def gcd(a, b):\n",
    "    while b != 0:\n",
    "        (a, b) = (b, a % b) #Euclidean Algorithm\n",
    "    return a\n",
    "\n",
    "\n",
    "print(gcd(a, b))"
   ]
  },
  {
   "cell_type": "markdown",
   "id": "be41eb91",
   "metadata": {},
   "source": [
    "## Part 2. Recursive Function"
   ]
  },
  {
   "cell_type": "markdown",
   "id": "5da43a8a",
   "metadata": {},
   "source": [
    "### Excercise 5\n",
    "Write a recursive function to print the nth Fibonacci number, given a positve integer n. Assume that the 1st and the 2nd Fibonacci numbers are 1."
   ]
  },
  {
   "cell_type": "code",
   "execution_count": 15,
   "id": "7cc504b1",
   "metadata": {},
   "outputs": [
    {
     "name": "stdout",
     "output_type": "stream",
     "text": [
      "9\n",
      "34\n"
     ]
    }
   ],
   "source": [
    "def fib(n):\n",
    "    if n == 1 or n == 2:\n",
    "        return 1\n",
    "    else:\n",
    "        return fib(n-1) + fib(n-2)\n",
    "\n",
    "\n",
    "print(fib(int(input())))"
   ]
  },
  {
   "cell_type": "markdown",
   "id": "586a67c9",
   "metadata": {},
   "source": [
    "### Excercise 6\n",
    "Write a recursive function to convert decimal number (positive integer) to string of binary number"
   ]
  },
  {
   "cell_type": "code",
   "execution_count": 11,
   "id": "e5d37d63",
   "metadata": {},
   "outputs": [
    {
     "name": "stdout",
     "output_type": "stream",
     "text": [
      "14\n",
      "1110\n"
     ]
    }
   ],
   "source": [
    "def dec_to_bin(n):\n",
    "    if n == 0:\n",
    "        return 0\n",
    "    else:\n",
    "        return n % 2 + 10 * (dec_to_bin(int((n // 2))))\n",
    "\n",
    "\n",
    "\n",
    "print(dec_to_bin(int(input())))"
   ]
  },
  {
   "cell_type": "markdown",
   "id": "dd033b61",
   "metadata": {},
   "source": [
    "### Excercise 7\n",
    "Write a recursive function to compute the sum of digits of a number\n"
   ]
  },
  {
   "cell_type": "code",
   "execution_count": 31,
   "id": "5bd97e08",
   "metadata": {},
   "outputs": [
    {
     "name": "stdout",
     "output_type": "stream",
     "text": [
      "1231\n",
      "7\n"
     ]
    }
   ],
   "source": [
    "def sum_of_digits(n):\n",
    "\n",
    "    if n == 0:\n",
    "        return 0\n",
    "    sum = (n % 10) + sum_of_digits(n // 10)\n",
    "    return sum\n",
    "\n",
    "\n",
    "print(sum_of_digits(int(input())))\n"
   ]
  },
  {
   "cell_type": "markdown",
   "id": "1bde5d77",
   "metadata": {},
   "source": [
    "## Part 3. Lambda Function"
   ]
  },
  {
   "cell_type": "markdown",
   "id": "895cc4a5",
   "metadata": {},
   "source": [
    "### Excercise 8\n",
    "Write a lambda function to return the sum of square of two numbers"
   ]
  },
  {
   "cell_type": "code",
   "execution_count": 33,
   "id": "4901a9d6",
   "metadata": {},
   "outputs": [
    {
     "name": "stdout",
     "output_type": "stream",
     "text": [
      "25\n",
      "16\n",
      "9\n"
     ]
    }
   ],
   "source": [
    "from math import sqrt\n",
    "sum_of_squares = lambda a, b: int(sqrt(a) + sqrt(b))\n",
    "print(sum_of_squares(int(input()), int(input())))"
   ]
  },
  {
   "cell_type": "markdown",
   "id": "50d42f8f",
   "metadata": {},
   "source": [
    "### Excercise 9\n",
    "Write a lambda function to return the maximum of three numbers. Suggestion: use ternary condition in Python [do_this_if_true] if [condition] else [do_this_if_true]. "
   ]
  },
  {
   "cell_type": "code",
   "execution_count": 34,
   "id": "4854a95e",
   "metadata": {},
   "outputs": [
    {
     "name": "stdout",
     "output_type": "stream",
     "text": [
      "3\n",
      "5\n",
      "9\n",
      "9\n"
     ]
    }
   ],
   "source": [
    "max = lambda a, b, c: a if (a > b and a > c) else b if (b > c) else c\n",
    "\n",
    "print(max(int(input()), int(input()), int(input())))"
   ]
  },
  {
   "cell_type": "markdown",
   "id": "d7d61644",
   "metadata": {},
   "source": [
    "### Excercise 10\n",
    "Write a lambda function to find the greatest commmon divisor of 2 positive integers. Suggestion: use recursive method; you can try to write normal function first and translate it into lambda function"
   ]
  },
  {
   "cell_type": "code",
   "execution_count": 38,
   "id": "abccbfcb",
   "metadata": {},
   "outputs": [
    {
     "name": "stdout",
     "output_type": "stream",
     "text": [
      "12\n",
      "8\n",
      "4\n"
     ]
    }
   ],
   "source": [
    "gcd = lambda a, b: b if a % b == 0 \\\n",
    "                      else gcd(b, a % b)\n",
    "\n",
    "print(gcd(int(input()), int(input())))"
   ]
  },
  {
   "cell_type": "markdown",
   "id": "a48b9b11",
   "metadata": {},
   "source": [
    "## Homework"
   ]
  },
  {
   "cell_type": "markdown",
   "id": "23087f76",
   "metadata": {},
   "source": [
    "### Excercise 11\n",
    "Write a function to compare the speed of execution of the 2 Fibonacci functions in the exercise above using time library and time.time() function for n in the range of [x, y], given 2 positive integer x < y\\ Example: x = 30, y = 35"
   ]
  },
  {
   "cell_type": "code",
   "execution_count": 39,
   "id": "05052d6d",
   "metadata": {},
   "outputs": [
    {
     "name": "stdout",
     "output_type": "stream",
     "text": [
      "30\n",
      "35\n",
      "Execution time for Fibonacci function using loop with n from 30 to 35\n",
      "n          Result           Time\n",
      "30         832040            5.0067901611328125e-06\n",
      "31         1346269            4.291534423828125e-06\n",
      "32         2178309            4.0531158447265625e-06\n",
      "33         3524578            4.291534423828125e-06\n",
      "34         5702887            2.86102294921875e-06\n",
      "35         9227465            3.0994415283203125e-06\n",
      "Execution time for Fibonacci function using recursion with n from 30 to 35\n",
      "n          Result           Time\n",
      "30         832040            0.25025105476379395\n",
      "31         1346269            0.4245622158050537\n",
      "32         2178309            0.6407816410064697\n",
      "33         3524578            1.144054889678955\n",
      "34         5702887            1.64913010597229\n",
      "35         9227465            3.2577080726623535\n",
      "None\n"
     ]
    }
   ],
   "source": [
    "import time\n",
    "\n",
    "# Fibonacci loop\n",
    "\n",
    "\n",
    "def fib_loop(n):\n",
    "    nth = 0\n",
    "    n1, n2 = 1, 1\n",
    "    if n == 1 or n == 2:\n",
    "        return 1\n",
    "    else:\n",
    "        i = 2\n",
    "        while i < n:\n",
    "            nth = n1 + n2\n",
    "            n1 = n2\n",
    "            n2 = nth\n",
    "            i += 1\n",
    "    return nth\n",
    "\n",
    "\n",
    "# Fibonacci recursion\n",
    "\n",
    "\n",
    "def fib_recursion(n):\n",
    "\n",
    "    if n == 1 or n == 2:\n",
    "        return 1\n",
    "    else:\n",
    "        return fib_recursion(n - 1) + fib_recursion(n - 2)\n",
    "\n",
    "\n",
    "def fibo_compare(x, y):\n",
    "    print('Execution time for Fibonacci function using loop with n from', x, 'to', y)\n",
    "    for n in range(x - 1, y + 1):\n",
    "        if n == (x - 1):\n",
    "            print('n' + ' ' * 10 + 'Result', ' ' * 10 + 'Time')\n",
    "        else:\n",
    "            start1 = time.time()\n",
    "            fib_number_1 = fib_loop(n)\n",
    "            end1 = time.time()\n",
    "            print(n, ' ' * 7, fib_number_1, ' ' * 10, end1 - start1)\n",
    "\n",
    "    print('Execution time for Fibonacci function using recursion with n from', x, 'to', y)\n",
    "    for n in range(x - 1, y + 1):\n",
    "        if n == (x - 1):\n",
    "            print('n' + ' ' * 10 + 'Result', ' ' * 10 + 'Time')\n",
    "        else:\n",
    "            start2 = time.time()\n",
    "            fib_number_2 = fib_recursion(n)\n",
    "            end2 = time.time()\n",
    "            print(n, ' ' * 7, fib_number_2, ' ' * 10, end2 - start2)\n",
    "\n",
    "\n",
    "print(fibo_compare(int(input()), int(input())))"
   ]
  },
  {
   "cell_type": "code",
   "execution_count": null,
   "id": "9199eb33",
   "metadata": {},
   "outputs": [],
   "source": []
  }
 ],
 "metadata": {
  "kernelspec": {
   "display_name": "Python 3",
   "language": "python",
   "name": "python3"
  },
  "language_info": {
   "codemirror_mode": {
    "name": "ipython",
    "version": 3
   },
   "file_extension": ".py",
   "mimetype": "text/x-python",
   "name": "python",
   "nbconvert_exporter": "python",
   "pygments_lexer": "ipython3",
   "version": "3.8.5"
  }
 },
 "nbformat": 4,
 "nbformat_minor": 5
}
