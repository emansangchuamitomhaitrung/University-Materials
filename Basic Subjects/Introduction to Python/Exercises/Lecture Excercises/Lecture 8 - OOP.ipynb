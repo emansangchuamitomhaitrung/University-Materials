{
 "cells": [
  {
   "cell_type": "markdown",
   "id": "253839d6",
   "metadata": {},
   "source": [
    "## Lecture 8. OOP"
   ]
  },
  {
   "cell_type": "markdown",
   "id": "27d03096",
   "metadata": {},
   "source": [
    "### Question 1\n",
    "Write a string_utilities class that contains two methods:\n",
    "\n",
    "**is_valid_parenthese**: to validate a string of parentheses, '(', ')', '{', '}', '[' and ']. These brackets must be close in the correct order. For example \"()\" and \"()[]{}\" are valid but \"[)\", \"({[)]\" and \"{{{\" are invalid.\n",
    "\n",
    "**reverse_words**: to reverse a string word by word."
   ]
  },
  {
   "cell_type": "code",
   "execution_count": 1,
   "id": "7131439d",
   "metadata": {},
   "outputs": [],
   "source": [
    "class string_utilities:\n",
    "    def reverse_words(self,s):\n",
    "        s_space = s.split()[::-1]\n",
    "        return ' '.join(s_space)\n",
    "    def is_valid_parenthese(self,s):\n",
    "        brackets = ['()','{}','[]']\n",
    "        while any(x in s for x in brackets):\n",
    "            for y in brackets:\n",
    "                s = s.replace(y,'')\n",
    "        return not s\n"
   ]
  },
  {
   "cell_type": "code",
   "execution_count": 2,
   "id": "7ab463af",
   "metadata": {},
   "outputs": [
    {
     "name": "stdout",
     "output_type": "stream",
     "text": [
      "False\n",
      "True\n",
      "Noi Ha khoa Bach\n"
     ]
    }
   ],
   "source": [
    "print(string_utilities().is_valid_parenthese('{[(])]}'))\n",
    "print(string_utilities().is_valid_parenthese('{[()(({}))]}'))\n",
    "print(string_utilities().reverse_words('Bach khoa Ha Noi'))\n"
   ]
  },
  {
   "cell_type": "markdown",
   "id": "b777b5c5",
   "metadata": {},
   "source": [
    "### Question 2"
   ]
  },
  {
   "cell_type": "markdown",
   "id": "41465569",
   "metadata": {},
   "source": [
    "Implement the **Matrix** class. It should contain:\n",
    "\n",
    "**Constructor** from a list of lists. It is guaranteed that the lists are composed of numbers, are not empty, and that they are all the same size. The constructor must copy the contents of the list of lists, i.e., when changing the lists from which the matrix was constructed, the contents of the matrix must not change.\n",
    "\n",
    "The __str__ method, which translates a matrix into a string. In this case, elements within one line should be separated by tabs, and lines should be separated by line breaks. There should be no tab character after each line, and there should not be a line break at the end.\n",
    "\n",
    "The **size** method without arguments, returning a tuple of the form (number of rows, number of columns)."
   ]
  },
  {
   "cell_type": "code",
   "execution_count": 5,
   "id": "211631fc",
   "metadata": {},
   "outputs": [
    {
     "name": "stdout",
     "output_type": "stream",
     "text": [
      "1\t0\n",
      "0\t1\n",
      "2\t0\t0\n",
      "0\t1\t10000\n",
      "-10\t20\t50\t2443\n",
      "-5235\t12\t4324\t4234\n"
     ]
    }
   ],
   "source": [
    "class Matrix(object):\n",
    "    def __init__(self, m):\n",
    "        self.m = m\n",
    "\n",
    "    def size(self):\n",
    "        row = len(self.m)\n",
    "        col = len(self.m[0])\n",
    "        return row, col\n",
    "\n",
    "    def __str__(self):\n",
    "\n",
    "        res = []  # print by rows\n",
    "        for row in self.m:\n",
    "            ele = [str(ele) for ele in row]\n",
    "            res.append('\\t'.join(ele))\n",
    "        return '\\n'.join(res)\n",
    "m = Matrix([[1, 0], [0, 1]])\n",
    "print(m)\n",
    "m = Matrix([[2, 0, 0], [0, 1, 10000]])\n",
    "print(m)\n",
    "m = Matrix([[-10, 20, 50, 2443], [-5235, 12, 4324, 4234]])\n",
    "print(m)"
   ]
  },
  {
   "cell_type": "markdown",
   "id": "9292948e",
   "metadata": {},
   "source": [
    "### Question 3\n",
    "Add the following methods to the previous class Matrix:\n",
    "\n",
    "__add__: takes a second matrix of the same size and returns the sum of the matrices.\n",
    "\n",
    "__mul__: takes an int or float and returns a matrix multiplied by a scalar.\n",
    "\n",
    "__rmul__: does the same thing as __mul__. This method will be called if the argument is on the right. To implement this method in the class code, it is enough to write __rmul__ = __mul__.\n",
    "Explanation:\n",
    "\n",
    "In the following case, __mul__ will be called: Matrix ([[0, 1], [1, 0]) * 10.\n",
    "\n",
    "In the following case, __rmul__ is called (since int has no __mul__ defined for the matrix on the right): 10 * Matrix ([[0, 1], [1, 0]).\n",
    "\n",
    "Of course, these methods should not change the contents of the matrix."
   ]
  },
  {
   "cell_type": "code",
   "execution_count": 6,
   "id": "b1431029",
   "metadata": {},
   "outputs": [
    {
     "name": "stdout",
     "output_type": "stream",
     "text": [
      "1\t1\t0\n",
      "20\t1\t-1\n",
      "-1\t-2\t1\n",
      "15\t15\t0\n",
      "0\t30\t150\n",
      "150\t225\t450\n",
      "15\t15\t0\n",
      "0\t30\t150\n",
      "150\t225\t450\n"
     ]
    }
   ],
   "source": [
    "class Matrix(object):\n",
    "    def __init__(self, m):\n",
    "        self.m = m\n",
    "\n",
    "    def size(self):\n",
    "        row = len(self.m)\n",
    "        col = len(self.m[0])\n",
    "        return row, col\n",
    "\n",
    "    def __add__(self, other):\n",
    "        sum = [[self.m[i][j] + other.m[i][j] for j in range(len(self.m[0]))] for i in range(len(self.m))]\n",
    "        return Matrix(sum)\n",
    "\n",
    "    def __mul__(self, alpha):\n",
    "        self.alpha = alpha\n",
    "        return Matrix([[self.alpha * i for i in j] for j in self.m])\n",
    "\n",
    "    def __rmul__(self, alpha):\n",
    "        self.alpha = alpha\n",
    "        return Matrix([[self.alpha * i for i in j] for j in self.m])\n",
    "\n",
    "    def __str__(self):\n",
    "        self.res = []  # print by rows\n",
    "        for self.row in self.m:\n",
    "            self.ele = [str(self.ele) for self.ele in self.row]\n",
    "            self.res.append('\\t'.join(self.ele))\n",
    "        return '\\n'.join(self.res)\n",
    "m1 = Matrix([[1, 0, 0], [0, 1, 0], [0, 0, 1]])\n",
    "m2 = Matrix([[0, 1, 0], [20, 0, -1], [-1, -2, 0]])\n",
    "print(m1 + m2)\n",
    "m = Matrix([[1, 1, 0], [0, 2, 10], [10, 15, 30]])\n",
    "alpha = 15\n",
    "print(m * alpha)\n",
    "print(alpha * m)"
   ]
  },
  {
   "cell_type": "markdown",
   "id": "919cd554",
   "metadata": {},
   "source": [
    "### Question 4\n",
    "Let an instance M of the Matrix class is a square matrix that defines a system of linear algebraic equations: **Mx = b**\n",
    "\n",
    "Your task is to add a solve method to the previous class Matrix that accepts a row vector b of free members and returns a string consisting of float numbers that represent the solution of the system of linear equations. The float numbers are separated by spaces and each number is displayed using two digits after the decimal points.\n",
    "\n",
    "It is guaranteed that the system has always a unique solution."
   ]
  },
  {
   "cell_type": "code",
   "execution_count": 7,
   "id": "37b55fee",
   "metadata": {},
   "outputs": [
    {
     "name": "stdout",
     "output_type": "stream",
     "text": [
      "0.25 0.50 0.25 \n"
     ]
    }
   ],
   "source": [
    "class Matrix(object):\n",
    "    def __init__(self, m):\n",
    "        self.m = m\n",
    "\n",
    "    def size(self):\n",
    "        row = len(self.m)\n",
    "        col = len(self.m[0])\n",
    "        return row, col\n",
    "\n",
    "    def __add__(self, other):\n",
    "        sum = [[self.m[i][j] + other.m[i][j] for j in range(len(self.m[0]))] for i in range(len(self.m))]\n",
    "        return Matrix(sum)\n",
    "\n",
    "    def __mul__(self, alpha):\n",
    "        self.alpha = alpha\n",
    "        return Matrix([[self.alpha * i for i in j] for j in self.m])\n",
    "\n",
    "    def __rmul__(self, alpha):\n",
    "        return self.__mul__(alpha)\n",
    "\n",
    "    def solve(self, b):\n",
    "        self.b = b\n",
    "        n = len(self.m)\n",
    "\n",
    "        indices = list(range(n))\n",
    "        for mg in range(n): # mg == main diagonal\n",
    "            scalar = 1.0 / self.m[mg][mg]\n",
    "            for j in range(n):\n",
    "                self.m[mg][j] *= scalar\n",
    "            self.b[mg] *= scalar\n",
    "\n",
    "            for i in indices[0:mg] + indices[mg + 1:]: #skip the mg-row\n",
    "                current_row_scalar = self.m[i][mg]\n",
    "                for j in range(n):\n",
    "                    self.m[i][j] = self.m[i][j] - current_row_scalar * self.m[mg][j]\n",
    "                self.b[i] = self.b[i] - current_row_scalar * self.b[mg]\n",
    "\n",
    "        for i in self.b:\n",
    "            print('{:.2f}'.format(i), end=' ')\n",
    "\n",
    "        return ''\n",
    "\n",
    "    def __str__(self):\n",
    "        res = []  # print by rows\n",
    "        for row in self.m:\n",
    "            ele = [str(ele) for ele in row]\n",
    "            res.append('\\t'.join(ele))\n",
    "        return '\\n'.join(res)\n",
    "\n",
    "\n",
    "m = Matrix([[1, 1, 1], [0, 2, 0], [0, 0, 4]])\n",
    "print(m.solve([1, 1, 1]))"
   ]
  }
 ],
 "metadata": {
  "kernelspec": {
   "display_name": "Python 3",
   "language": "python",
   "name": "python3"
  },
  "language_info": {
   "codemirror_mode": {
    "name": "ipython",
    "version": 3
   },
   "file_extension": ".py",
   "mimetype": "text/x-python",
   "name": "python",
   "nbconvert_exporter": "python",
   "pygments_lexer": "ipython3",
   "version": "3.8.5"
  }
 },
 "nbformat": 4,
 "nbformat_minor": 5
}
