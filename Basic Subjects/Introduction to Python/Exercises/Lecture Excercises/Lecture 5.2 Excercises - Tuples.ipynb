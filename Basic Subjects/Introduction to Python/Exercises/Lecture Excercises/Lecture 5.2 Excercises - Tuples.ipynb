{
 "cells": [
  {
   "cell_type": "markdown",
   "id": "be16bdd6",
   "metadata": {},
   "source": [
    "## Lecture 5.2. Tuples"
   ]
  },
  {
   "cell_type": "markdown",
   "id": "ad014878",
   "metadata": {},
   "source": [
    "### Question 1\n",
    "Write a function **sort_tuple(tup)** to sort a given tuple in decreasing order with respect to its float element."
   ]
  },
  {
   "cell_type": "code",
   "execution_count": null,
   "id": "4f4317a8",
   "metadata": {},
   "outputs": [],
   "source": [
    "def sort_tuple(tup):\n",
    "    tup.sort(key = lambda x :x[1],reverse = True)\n",
    "    return tup"
   ]
  },
  {
   "cell_type": "markdown",
   "id": "1d094185",
   "metadata": {},
   "source": [
    "### Question 2 \n",
    "Write a function sum_and_count(inp) that receives a given tuple of tuples as input and returns a list of the sums of elements in each tuple and a list of the numbers of elements in each tuple, respectively."
   ]
  },
  {
   "cell_type": "code",
   "execution_count": 1,
   "id": "5e8de970",
   "metadata": {},
   "outputs": [
    {
     "name": "stdout",
     "output_type": "stream",
     "text": [
      "8 25 1\n",
      "3 4 1\n"
     ]
    }
   ],
   "source": [
    "inp = ((1,2,5), (3,7,5,10), (1))\n",
    "\n",
    "def sum_and_count(inp):\n",
    "    lst_sum = []\n",
    "    lst_count = []\n",
    "    for i in range(len(inp)):\n",
    "        count = 0\n",
    "        sum = 0\n",
    "        if type(inp[i]) is int:\n",
    "            count = inp[i]\n",
    "            sum = inp[i]\n",
    "        else:\n",
    "            for j in range(len(inp[i])):\n",
    "                count += 1\n",
    "                sum += inp[i][j]\n",
    "        lst_sum.append(sum)\n",
    "        lst_count.append(count)\n",
    "    return lst_sum, lst_count\n",
    "\n",
    "\n",
    "sum_list, cnt_list = sum_and_count(inp)\n",
    "\n",
    "print(*sum_list)\n",
    "print(*cnt_list)"
   ]
  },
  {
   "cell_type": "markdown",
   "id": "ad139de2",
   "metadata": {},
   "source": [
    "### Question 3\n",
    "Write a function tup2num(tup) to convert a given tuple of positive integers into an integer\n",
    "\n",
    "\n"
   ]
  },
  {
   "cell_type": "code",
   "execution_count": null,
   "id": "c350cc29",
   "metadata": {},
   "outputs": [],
   "source": [
    "def tup2num(tup):\n",
    "    result = int(''.join(map(str, tup)))\n",
    "    return result"
   ]
  },
  {
   "cell_type": "markdown",
   "id": "b9f6d785",
   "metadata": {},
   "source": [
    "### Question 4\n",
    "Write a function closest_tuple(tuple_list, query, k) find the tuple nearest to a certain tuple, query on a particular k-th index."
   ]
  },
  {
   "cell_type": "code",
   "execution_count": 1,
   "id": "e839abc7",
   "metadata": {},
   "outputs": [
    {
     "name": "stdout",
     "output_type": "stream",
     "text": [
      "(5, 6, 7)\n"
     ]
    }
   ],
   "source": [
    "tuple_list = [(-3, 4, 9), (5, 6, 7), (10, 16, 70), (1, 6, -7)]\n",
    "query = (1, 2, 5)\n",
    "k = 3\n",
    "\n",
    "def closest_tuple(tuple_list, query, k):\n",
    "    res = None\n",
    "    min_dif = 100\n",
    "    for index, element in enumerate(tuple_list):\n",
    "        dif = abs(query[k - 1] - element[k - 1])\n",
    "        if dif < min_dif:\n",
    "            min_dif, res = dif, index\n",
    "\n",
    "    return tuple_list[res]\n",
    "\n",
    "print(closest_tuple(tuple_list, query, k))"
   ]
  },
  {
   "cell_type": "markdown",
   "id": "d907d6db",
   "metadata": {},
   "source": [
    "### Question 5\n",
    "Given two lists of pairs of integers, your task is to calculate the number of their common pairs, where the order of numbers in pairs is irrespective.\n",
    "\n",
    "**Input:**\n",
    "\n",
    "The first line describes the first list.\n",
    "\n",
    "The second line describes the second list.\n",
    "\n",
    "**Output:**\n",
    "\n",
    "The number of common pairs \n",
    "\n",
    "**Hints:**\n",
    "\n",
    "You can convert an input string to a python object (e.g., a list in this case) using the following command:\n",
    "\n",
    "                                       test_list = eval(input())"
   ]
  },
  {
   "cell_type": "code",
   "execution_count": 2,
   "id": "64e7ec5c",
   "metadata": {},
   "outputs": [
    {
     "name": "stdout",
     "output_type": "stream",
     "text": [
      "[(3, 4), (5, 6), (9, 10), (4, 5), (10, 20), (2, 3)]\n",
      "[(5, 4), (3, 4), (6, 5), (9, 11)]\n",
      "3\n"
     ]
    }
   ],
   "source": [
    "tup1 = eval(input())\n",
    "tup2 = eval(input())\n",
    "\n",
    "def common_pairs(tup1, tup2):\n",
    "    count = 0\n",
    "    for i in tup1:\n",
    "        for j in tup2:\n",
    "            if i == j or i == j[::-1]:\n",
    "                count += 1\n",
    "\n",
    "    return count\n",
    "\n",
    "\n",
    "print(common_pairs(tup1, tup2))\n"
   ]
  }
 ],
 "metadata": {
  "kernelspec": {
   "display_name": "Python 3",
   "language": "python",
   "name": "python3"
  },
  "language_info": {
   "codemirror_mode": {
    "name": "ipython",
    "version": 3
   },
   "file_extension": ".py",
   "mimetype": "text/x-python",
   "name": "python",
   "nbconvert_exporter": "python",
   "pygments_lexer": "ipython3",
   "version": "3.8.8"
  }
 },
 "nbformat": 4,
 "nbformat_minor": 5
}
