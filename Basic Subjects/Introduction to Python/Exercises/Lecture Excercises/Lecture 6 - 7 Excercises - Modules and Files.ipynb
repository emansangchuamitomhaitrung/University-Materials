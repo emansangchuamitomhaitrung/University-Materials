{
 "cells": [
  {
   "cell_type": "markdown",
   "id": "8aaddd49",
   "metadata": {},
   "source": [
    "## Lecture 6 - 7. Modules and Files"
   ]
  },
  {
   "cell_type": "markdown",
   "id": "ae57688e",
   "metadata": {},
   "source": [
    "### Question 1"
   ]
  },
  {
   "cell_type": "markdown",
   "id": "91dd798b",
   "metadata": {},
   "source": [
    "Write a function add_days(cur_date, n) that takes a cur_date as input and returns a date after n days.\n",
    "\n",
    "To this end, you need to use the module datetime described here: https://www.programiz.com/python-programming/datetime\n",
    "\n"
   ]
  },
  {
   "cell_type": "code",
   "execution_count": 1,
   "id": "7e183c03",
   "metadata": {},
   "outputs": [
    {
     "name": "stdout",
     "output_type": "stream",
     "text": [
      "2016-03-11\n"
     ]
    }
   ],
   "source": [
    "import datetime\n",
    "cur_date = datetime.date(2016, 2, 10)\n",
    "def add_days(cur_date, n):\n",
    "    t = datetime.timedelta(days = n)\n",
    "    t2 = t + cur_date\n",
    "    return t2\n",
    "\n",
    "print(add_days(cur_date, 30))\n"
   ]
  },
  {
   "cell_type": "markdown",
   "id": "7d87dbd6",
   "metadata": {},
   "source": [
    "### Question 2"
   ]
  },
  {
   "cell_type": "markdown",
   "id": "119d5a95",
   "metadata": {},
   "source": [
    "You are given a module **list_utilities**. Your task is to use that module to flatten a nested list (list of lists of integers) and find the largest element.\n",
    "\n",
    "The module **list_utilities** was uploaded to the system. Thus, you can import the module to use its pre-defined functions.\n",
    "\n",
    "Here are the contents of the module **list_utilities**:"
   ]
  },
  {
   "cell_type": "code",
   "execution_count": null,
   "id": "66a2f80b",
   "metadata": {},
   "outputs": [],
   "source": [
    "def max_num_in_list(list):\n",
    "    max = list[0]\n",
    "    for a in list:\n",
    "        if a > max:\n",
    "            max = a\n",
    "    return max\n",
    "def flatten_nested_list(nested_lst):\n",
    "    return [item for sublist in nested_lst for item in sublist]"
   ]
  },
  {
   "cell_type": "code",
   "execution_count": null,
   "id": "b8033fbd",
   "metadata": {},
   "outputs": [],
   "source": [
    "import list_utilities\n",
    "num = []\n",
    "nested_lst = input()\n",
    "lst = list_utilities.flatten_nested_list(nested_lst)\n",
    "hgn = {\" \",\",\",\"[\",\"]\"}\n",
    "hgn1=\"\"\n",
    "for i in range(len(lst)) :\n",
    "    if  lst[i] not in hgn and lst[i+1] not in hgn:\n",
    "        hgn1 = hgn1 + lst[i]\n",
    "        continue\n",
    "    if lst[i] not in hgn :\n",
    "        hgn1 = hgn1 +lst[i] +\" \"\n",
    "print(hgn1)\n",
    "num = [int(i)for i in hgn1.split()]\n",
    "print(list_utilities.max_num_in_list(num))"
   ]
  },
  {
   "cell_type": "markdown",
   "id": "f0b2e285",
   "metadata": {},
   "source": [
    "### Question 3 "
   ]
  },
  {
   "cell_type": "markdown",
   "id": "984d4451",
   "metadata": {},
   "source": [
    "Write a module file on your local computer and name it as **set_utilities.py**. After that, you should upload the file to the system.\n",
    "\n",
    "The module should contain two functions:\n",
    "\n",
    "**set_union(A, B)** takes two sets as input and returns their **union**.\n",
    "\n",
    "**set_intersection(A, B)** takes two sets as input and returns their **intersection**.\n",
    "\n",
    "In the answer box, you just need to load your module using import statement"
   ]
  },
  {
   "cell_type": "code",
   "execution_count": null,
   "id": "830e0d54",
   "metadata": {},
   "outputs": [],
   "source": [
    "def set_union(A, B):\n",
    "    return A | B\n",
    "def set_intersection(A, B):\n",
    "    return A & B"
   ]
  },
  {
   "cell_type": "markdown",
   "id": "77405261",
   "metadata": {},
   "source": [
    "### Question 4 "
   ]
  },
  {
   "cell_type": "markdown",
   "id": "8d377044",
   "metadata": {},
   "source": [
    "Write a function count_words(filepath) that takes a text file as input and returns the number of words of a given text file.\n"
   ]
  },
  {
   "cell_type": "code",
   "execution_count": null,
   "id": "958f0fe2",
   "metadata": {},
   "outputs": [],
   "source": [
    "def count_words(filepath):\n",
    "    f = open(filepath)\n",
    "    data = f.read()\n",
    "    words = data.split()\n",
    "    print(len(words))"
   ]
  },
  {
   "cell_type": "markdown",
   "id": "38fe5f71",
   "metadata": {},
   "source": [
    "### Question 5 "
   ]
  },
  {
   "cell_type": "markdown",
   "id": "1f40f3e1",
   "metadata": {},
   "source": [
    "You are given a sale database of an online store. The database is stored in a file, where each line of the input file has the following form:\n",
    "\n",
    "Customer commodity quantity, where\n",
    "\n",
    "Customer - customer name (string without spaces),\n",
    "product - product name (string without spaces),\n",
    "quantity - the number of purchased items.\n",
    "Your task is to write a function process(filepath) to process the database stored in the file filepath. The function should print out a list of all customers, where for each customer, you need to count the number of units they have purchased for each type of product.\n",
    "\n",
    "Input:\n",
    "\n",
    "A text file, where the information about purchases is entered in the specified format.\n",
    "\n",
    "Output:\n",
    "\n",
    "Print a list of all customers in lexicographic order, after the name of each customer print a colon, then print a list of the names of all products purchased by this customer in lexicographic order, after the name of each product print the number of units of the product purchased by this customer. Information about each product is displayed on a separate line."
   ]
  },
  {
   "cell_type": "code",
   "execution_count": null,
   "id": "f84a7887",
   "metadata": {},
   "outputs": [],
   "source": [
    "def process(filepath):\n",
    "    f = open(filepath)\n",
    "    lst = []\n",
    "    for line in f :\n",
    "        temp = line.split()\n",
    "        lst.append(temp)\n",
    "    s1 = {}\n",
    "    s3 = {}\n",
    "    for i in lst :\n",
    "        s1[i[0]] = s1.get(i[0],[])+i[1:]\n",
    "    for i in s1.keys() :\n",
    "        s2={}\n",
    "        for j in range(len(s1[i])) :\n",
    "            if j % 2 == 0 :\n",
    "                s2[s1[i][j]] = s2.get(s1[i][j],0) + int(s1[i][j+1])\n",
    "        s3[i] = s2\n",
    "    for k, v in sorted(s3.items()):\n",
    "        print(k +':')\n",
    "        for i, j in sorted(v.items()):\n",
    "            print(i, j)\n",
    "    return ''"
   ]
  }
 ],
 "metadata": {
  "kernelspec": {
   "display_name": "Python 3",
   "language": "python",
   "name": "python3"
  },
  "language_info": {
   "codemirror_mode": {
    "name": "ipython",
    "version": 3
   },
   "file_extension": ".py",
   "mimetype": "text/x-python",
   "name": "python",
   "nbconvert_exporter": "python",
   "pygments_lexer": "ipython3",
   "version": "3.8.5"
  }
 },
 "nbformat": 4,
 "nbformat_minor": 5
}
