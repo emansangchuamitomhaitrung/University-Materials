{
 "cells": [
  {
   "cell_type": "markdown",
   "id": "240d9d00",
   "metadata": {},
   "source": [
    "### Question 1\n",
    "Write a program that takes two integers as input and return their sum.\n",
    "\n"
   ]
  },
  {
   "cell_type": "code",
   "execution_count": 1,
   "id": "0969a3c6",
   "metadata": {},
   "outputs": [
    {
     "name": "stdout",
     "output_type": "stream",
     "text": [
      "3 \n",
      "5\n",
      "8\n"
     ]
    }
   ],
   "source": [
    "a = int(input())\n",
    "b = int(input())\n",
    "print(a + b)"
   ]
  },
  {
   "cell_type": "markdown",
   "id": "f37a8a9a",
   "metadata": {},
   "source": [
    "### Question 2\n",
    "If you run a x kilometer race in 42 minutes 42 seconds? What is your average speed in miles per hour? \n",
    "\n",
    "The result should be rounded to two digits after the comma."
   ]
  },
  {
   "cell_type": "code",
   "execution_count": 4,
   "id": "0e0ff3f0",
   "metadata": {},
   "outputs": [
    {
     "name": "stdout",
     "output_type": "stream",
     "text": [
      "10\n",
      "8.73\n"
     ]
    }
   ],
   "source": [
    "x = int(input())\n",
    "miles = x / 1.61\n",
    "res = miles / ((42 * 61) / 3600)\n",
    "print('{:.2f}'.format(res))"
   ]
  },
  {
   "cell_type": "code",
   "execution_count": null,
   "id": "e4a204f1",
   "metadata": {},
   "outputs": [],
   "source": []
  }
 ],
 "metadata": {
  "kernelspec": {
   "display_name": "Python 3",
   "language": "python",
   "name": "python3"
  },
  "language_info": {
   "codemirror_mode": {
    "name": "ipython",
    "version": 3
   },
   "file_extension": ".py",
   "mimetype": "text/x-python",
   "name": "python",
   "nbconvert_exporter": "python",
   "pygments_lexer": "ipython3",
   "version": "3.8.5"
  }
 },
 "nbformat": 4,
 "nbformat_minor": 5
}
