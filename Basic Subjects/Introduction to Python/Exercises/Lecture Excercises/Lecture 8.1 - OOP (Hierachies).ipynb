{
 "cells": [
  {
   "cell_type": "markdown",
   "id": "669e5ecb",
   "metadata": {},
   "source": [
    "## Lecture 8.1. OOP (Hierarchies)"
   ]
  },
  {
   "cell_type": "markdown",
   "id": "398ee985",
   "metadata": {},
   "source": [
    "### Question 1\n",
    "You are given a file called Address.py that defines the following class:\n",
    "\n"
   ]
  },
  {
   "cell_type": "code",
   "execution_count": null,
   "id": "8ad5fcea",
   "metadata": {},
   "outputs": [],
   "source": [
    "class Address:\n",
    "    def __init__(self, street, num):\n",
    "        self.street_name = street\n",
    "        self.number = num"
   ]
  },
  {
   "cell_type": "markdown",
   "id": "a12cf270",
   "metadata": {},
   "source": [
    "Your task is to make a subclass of the class Address called **CampusAddress** that has a new attribute, **office_number**, that can vary. This subclass will always have the **street** attribute set to \"Dai Co Viet\" and the **num** attribute set to \"01\". \n",
    "\n"
   ]
  },
  {
   "cell_type": "code",
   "execution_count": 6,
   "id": "8b9e6812",
   "metadata": {},
   "outputs": [],
   "source": [
    "class Address(object):\n",
    "    def __init__(self, street, num):\n",
    "        self.street_name = street\n",
    "        self.number = num\n",
    "class CampusAddress(Address):\n",
    "    def __init__(self, office_number):\n",
    "        self.street_name = 'Dai Co Viet'\n",
    "        self.number = '01'\n",
    "        self.office_number = office_number"
   ]
  },
  {
   "cell_type": "code",
   "execution_count": 7,
   "id": "9412ce4b",
   "metadata": {},
   "outputs": [
    {
     "name": "stdout",
     "output_type": "stream",
     "text": [
      "Dai Co Viet 01 B1\n",
      "True True\n"
     ]
    }
   ],
   "source": [
    "obj = CampusAddress(\"B1\")\n",
    "print(obj.street_name, obj.number, obj.office_number)\n",
    "print(isinstance(obj, Address), isinstance(obj, CampusAddress))"
   ]
  },
  {
   "cell_type": "markdown",
   "id": "60528c6f",
   "metadata": {},
   "source": [
    "### Question 2\n",
    "You are given a file namely polygon.py that defines the following class\n",
    "\n"
   ]
  },
  {
   "cell_type": "code",
   "execution_count": null,
   "id": "4a15b777",
   "metadata": {},
   "outputs": [],
   "source": [
    "class Polygon:\n",
    "    def __init__(self, no_of_sides):\n",
    "        self.n = no_of_sides\n",
    "        self.sides = [0 for i in range(no_of_sides)]\n",
    "    def inputSides(self):\n",
    "        self.sides = [float(input()) for i in range(self.n)]\n",
    "    def dispSides(self):\n",
    "        for i in range(self.n):\n",
    "            print(\"Side\", i+1, \"is\", self.sides[i])"
   ]
  },
  {
   "cell_type": "markdown",
   "id": "6fdd0948",
   "metadata": {},
   "source": [
    "Your task is to make a child class **Triangle** and define the **findArea()** method to calculate the area of a triangle instance and print out the result up to two digits after the decimal point.\n"
   ]
  },
  {
   "cell_type": "code",
   "execution_count": 14,
   "id": "895812b8",
   "metadata": {},
   "outputs": [],
   "source": [
    "from math import sqrt\n",
    "class Polygon: #from Polygon import *\n",
    "    def __init__(self, no_of_sides):\n",
    "        self.n = no_of_sides\n",
    "        self.sides = [0 for i in range(no_of_sides)]\n",
    "    def inputSides(self):\n",
    "        self.sides = [float(input()) for i in range(self.n)]\n",
    "    def dispSides(self):\n",
    "        for i in range(self.n):\n",
    "            print(\"Side\", i+1, \"is\", self.sides[i])\n",
    "\n",
    "class Triangle(Polygon):\n",
    "    def __init__(self):\n",
    "        Polygon.__init__(self, no_of_sides = 3)\n",
    "    def findArea(self):\n",
    "        self.area = (sqrt((4 * self.sides[0] ** 2 * self.sides[1] ** 2) - (self.sides[0] ** 2 + self.sides[1] ** 2 - self.sides[2] ** 2) ** 2)) / 4\n",
    "        print('The area of the triangle is','{:.2f}'.format(self.area))\n"
   ]
  },
  {
   "cell_type": "code",
   "execution_count": 15,
   "id": "22b2a524",
   "metadata": {},
   "outputs": [
    {
     "name": "stdout",
     "output_type": "stream",
     "text": [
      "5\n",
      "4\n",
      "3\n",
      "Side 1 is 5.0\n",
      "Side 2 is 4.0\n",
      "Side 3 is 3.0\n",
      "The area of the triangle is 6.00\n"
     ]
    }
   ],
   "source": [
    "t = Triangle()\n",
    "t.inputSides()\n",
    "t.dispSides()\n",
    "t.findArea()"
   ]
  },
  {
   "cell_type": "markdown",
   "id": "9632b583",
   "metadata": {},
   "source": [
    "### Question 3 "
   ]
  },
  {
   "cell_type": "markdown",
   "id": "bd8ce77a",
   "metadata": {},
   "source": [
    "1. Create a Vehicle class with name, mileage and capacity instance attributes. You have to define:\n",
    "\n",
    "**init**: the class constructor\n",
    "\n",
    "**str**:  to show the information of a vehicle instance\n",
    "\n",
    "**fare()**: to calculate the fare charge of any vehicle, which is seating capacity * 100.\n",
    "\n",
    " 2. Create a Bus child class that inherits from the Vehicle class. If Vehicle is Bus instance, we need to add an extra 10% on full fare as a maintenance charge. For this class, you have to define:\n",
    "\n",
    "**init**: the class constructor inherits from the parent class and has a default parameter capacity with the default value of 50.\n",
    "\n",
    "**str**: override to show the information of a bus instance\n",
    "\n",
    "**fare()**: override the method fare() of the parent class"
   ]
  },
  {
   "cell_type": "code",
   "execution_count": 16,
   "id": "0c6a4329",
   "metadata": {},
   "outputs": [],
   "source": [
    "class Vehicle(object):\n",
    "    def __init__(self, name, mileage, capacity):\n",
    "        self.name = name\n",
    "        self.mileage = mileage\n",
    "        self.capacity = capacity\n",
    "\n",
    "    def __str__(self):\n",
    "        return 'Vehicle: name = ' + str(self.name) + ', mileage = ' + str(self.mileage) + ', cap = ' + str(self.capacity)\n",
    "\n",
    "    def fare(self):\n",
    "        return self.capacity * 100\n",
    "\n",
    "class Bus(Vehicle):\n",
    "    def __init__(self, name, mileage, capacity = 50):\n",
    "        Vehicle.__init__(self, name, mileage, capacity)\n",
    "    def __str__(self):\n",
    "        return 'Bus: name = ' + str(self.name) + ', mileage = ' + str(self.mileage) + ', cap = ' + str(self.capacity)\n",
    "    def fare(self):\n",
    "        return self.capacity * 100 * 1.1"
   ]
  },
  {
   "cell_type": "code",
   "execution_count": 17,
   "id": "b803dd53",
   "metadata": {},
   "outputs": [
    {
     "name": "stdout",
     "output_type": "stream",
     "text": [
      "Vehicle: name = Camry, mileage = 100, cap = 5\n",
      "Bus: name = Bach Khoa, mileage = 12, cap = 10\n",
      "1100.0\n",
      "True\n",
      "True\n"
     ]
    }
   ],
   "source": [
    "print(Vehicle(\"Camry\", 100, 5))\n",
    "b = Bus(\"Bach Khoa\", 12, 10)\n",
    "print(b)\n",
    "print(b.fare())\n",
    "print(isinstance(b, Bus))\n",
    "print(isinstance(b, Vehicle))"
   ]
  },
  {
   "cell_type": "markdown",
   "id": "b53fef9e",
   "metadata": {},
   "source": [
    "### Question 4\n"
   ]
  },
  {
   "cell_type": "markdown",
   "id": "9202560f",
   "metadata": {},
   "source": [
    "For a given function, the analytical expressions for the first and second derivatives must be manually coded. However, we could think of inheriting general functions for computing these derivatives numerically, such that the only thing we must always implement is the function itself. To realize this idea, we create a superclass, which is available in a file namely **Derivatives.py**:\n",
    "\n"
   ]
  },
  {
   "cell_type": "code",
   "execution_count": null,
   "id": "7ed57f96",
   "metadata": {},
   "outputs": [],
   "source": [
    "class FuncWithDerivatives(object):\n",
    "    def __init__(self, h=1.0E-5):\n",
    "        self.h = h  # spacing for numerical derivatives\n",
    "    def __call__(self, x):\n",
    "        raise NotImplementedError('__call__ \\\n",
    "             missing in class %s' % self.__class__.__name__)\n",
    "    def df(self, x):\n",
    "        \"\"\"Return the 1st derivative of self.f.\"\"\"\n",
    "        # Compute first derivative by a finite difference\n",
    "        h = self.h\n",
    "        return (self(x+h) - self(x-h))/(2.0*h)\n",
    "    def ddf(self, x):\n",
    "        \"\"\"Return the 2nd derivative of self.f.\"\"\"\n",
    "        # Compute second derivative by a finite difference:\n",
    "        h = self.h\n",
    "        return (self(x+h) - 2*self(x) + self(x-h))/(float(h)**2)"
   ]
  },
  {
   "cell_type": "markdown",
   "id": "2501fe92",
   "metadata": {},
   "source": [
    "Make a subclass **Sine1** of class **FuncWithDerivatives** for defining an interface for the sin(x) function. Implement the function **call** only, and rely on the inherited **df** and **ddf** methods for computing the derivatives. Make another subclass **Sine2** for sin(x) where you also implement the **df** and **ddf** methods using analytical expressions for the derivatives. "
   ]
  },
  {
   "cell_type": "code",
   "execution_count": null,
   "id": "a95c5a0f",
   "metadata": {},
   "outputs": [],
   "source": [
    "import math\n",
    "from Derivatives import *\n",
    "class Sine1(FuncWithDerivatives): # defining interface for the function\n",
    "    def __call__(self, x):\n",
    "        return math.sin(x)\n",
    "\n",
    "\n",
    "class Sine2(FuncWithDerivatives): # analytical expressions\n",
    "    def __call__(self, x):\n",
    "        return math.sin(x)\n",
    "    def df(self, x):\n",
    "        return math.cos(x)\n",
    "    def ddf(self, x):\n",
    "        return - math.sin(x)"
   ]
  },
  {
   "cell_type": "markdown",
   "id": "0675f239",
   "metadata": {},
   "source": [
    "### Question 5\n",
    "Define a new class called **SquareMatrix**, which is a descendant of the class **Matrix** in the previous homework. Add the **pow** exponentiation operation that takes a natural power (including zero) to which you want to raise the matrix."
   ]
  },
  {
   "cell_type": "code",
   "execution_count": null,
   "id": "e203925b",
   "metadata": {},
   "outputs": [],
   "source": [
    "class Matrix(object):\n",
    "    def __init__(self, m):\n",
    "        self.m = m\n",
    "\n",
    "    def size(self):\n",
    "        row = len(self.m)\n",
    "        col = len(self.m[0])\n",
    "        return row, col\n",
    "\n",
    "    def __add__(self, other):\n",
    "        sum = [[self.m[i][j] + other.m[i][j] for j in range(len(self.m[0]))] for i in range(len(self.m))]\n",
    "        return Matrix(sum)\n",
    "\n",
    "    def __mul__(self, alpha):\n",
    "        self.alpha = alpha\n",
    "        return Matrix([[self.alpha * i for i in j] for j in self.m])\n",
    "\n",
    "    def __rmul__(self, alpha):\n",
    "        return self.__mul__(alpha)\n",
    "\n",
    "    def solve(self, b):\n",
    "        self.b = b\n",
    "        n = len(self.m)\n",
    "\n",
    "        indices = list(range(n))\n",
    "        for mg in range(n): # mg == main diagonal\n",
    "            scalar = 1.0 / self.m[mg][mg]\n",
    "            for j in range(n):\n",
    "                self.m[mg][j] *= scalar\n",
    "            self.b[mg] *= scalar\n",
    "\n",
    "            for i in indices[0:mg] + indices[mg + 1:]: # skip the mg-row\n",
    "                current_row_scalar = self.m[i][mg]\n",
    "                for j in range(n):\n",
    "                    self.m[i][j] = self.m[i][j] - current_row_scalar * self.m[mg][j]\n",
    "                self.b[i] = self.b[i] - current_row_scalar * self.b[mg]\n",
    "\n",
    "        for i in self.b:\n",
    "            print('{:.2f}'.format(i), end=' ')\n",
    "\n",
    "        return ''\n",
    "\n",
    "    def __str__(self):\n",
    "        res = []  # print by rows\n",
    "        for row in self.m:\n",
    "            ele = [str(ele) for ele in row]\n",
    "            res.append('\\t'.join(ele))\n",
    "        return '\\n'.join(res)\n",
    "    \n",
    "# Main Program Body #\n",
    "\n",
    "class SquareMatrix(Matrix):\n",
    "    def __pow__(self, power):\n",
    "        clone = self.m\n",
    "        shape = len(clone)\n",
    "        res = []\n",
    "        if power == 0:\n",
    "            M = [[0 for _ in range(shape)] for _ in range(shape)]\n",
    "            for i in range(len(M)):\n",
    "                M[i][i] = 1\n",
    "            return Matrix(M)\n",
    "        elif power == 1:\n",
    "            return Matrix(self.m)\n",
    "        else:\n",
    "            for _ in range(power - 1):\n",
    "                res = [[0 for _ in range(shape)] for _ in range(shape)]\n",
    "                for i in range(shape):\n",
    "                    for j in range(shape):\n",
    "                        for k in range(shape):\n",
    "                            res[i][j] += clone[i][k] * self.m[k][j]\n",
    "                clone = res\n",
    "        return Matrix(res)\n"
   ]
  }
 ],
 "metadata": {
  "kernelspec": {
   "display_name": "Python 3",
   "language": "python",
   "name": "python3"
  },
  "language_info": {
   "codemirror_mode": {
    "name": "ipython",
    "version": 3
   },
   "file_extension": ".py",
   "mimetype": "text/x-python",
   "name": "python",
   "nbconvert_exporter": "python",
   "pygments_lexer": "ipython3",
   "version": "3.8.5"
  }
 },
 "nbformat": 4,
 "nbformat_minor": 5
}
