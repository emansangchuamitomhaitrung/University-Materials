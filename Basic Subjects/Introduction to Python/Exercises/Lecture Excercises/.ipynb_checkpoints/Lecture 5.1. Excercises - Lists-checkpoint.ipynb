{
 "cells": [
  {
   "cell_type": "markdown",
   "id": "e84860b9",
   "metadata": {},
   "source": [
    "## Lecture 5.1. Lists"
   ]
  },
  {
   "cell_type": "markdown",
   "id": "8e905ad1",
   "metadata": {},
   "source": [
    "### Question 1\n",
    "Given a sequence of integers, print out all the elements that are strictly larger than the previous one. The program should print 'NONE' if such an element does not exist.\n",
    "\n",
    "**Input:**\n",
    "\n",
    "One line contains a sequence of integers separated by spaces.\n",
    "\n",
    "**Output:**\n",
    "\n",
    "Print out the answer in one line.\n",
    "\n",
    "**Hints:**\n",
    "\n",
    "To read a line and convert it into a list of numbers, you can use the one of following commands: \n",
    "\n",
    "          arr = list(map(int, input().split()))\n",
    "\n",
    "          arr = [int(x) for x in input().split()]\n"
   ]
  },
  {
   "cell_type": "code",
   "execution_count": 19,
   "id": "53da5f65",
   "metadata": {},
   "outputs": [
    {
     "name": "stdout",
     "output_type": "stream",
     "text": [
      "1 5 2 4 3\n",
      "5 4 \n"
     ]
    }
   ],
   "source": [
    "arr = list(map(int, input().split()))\n",
    "result = ''\n",
    "for i in range(1, len(arr)):\n",
    "    if arr[i] > arr[i - 1]:\n",
    "        result += str(arr[i]) + ' '\n",
    "        \n",
    "if len(result) != 0:\n",
    "    print(result)\n",
    "else:\n",
    "    print('NONE')\n",
    "\n",
    "    \n",
    "        \n"
   ]
  },
  {
   "cell_type": "markdown",
   "id": "a1a961b0",
   "metadata": {},
   "source": [
    "### Question 2\n",
    "Write a program to find the element closest in magnitude to a given number in an array.\n",
    "\n",
    "**Input:**\n",
    "\n",
    "The first line contains one natural number N not exceeding 1000 - the size of the array. The second line contains N numbers - the elements of the array (integers not exceeding 1000 in absolute value). The third line contains one integer x not exceeding 1000 in absolute value.\n",
    "\n",
    "**Output:**\n",
    "\n",
    "Print the value of the element closest to x. If there are several such numbers, print any of them."
   ]
  },
  {
   "cell_type": "code",
   "execution_count": 22,
   "id": "8d81f280",
   "metadata": {},
   "outputs": [
    {
     "name": "stdout",
     "output_type": "stream",
     "text": [
      "7\n",
      "1 20 30 40 70 9 5\n",
      "6\n",
      "5\n"
     ]
    }
   ],
   "source": [
    "n = int(input())\n",
    "arr = [int(x) for x in input().split()]\n",
    "k = int(input())\n",
    "lst = []\n",
    "for i in range (0,len(arr)):\n",
    "    h = k - arr[i]\n",
    "    lst.append(abs(h))\n",
    "min = lst[0]\n",
    "for j in range(0,len(lst)):\n",
    "    if lst[j] < min :\n",
    "        min = lst[j]\n",
    "        index = j \n",
    "print(arr[index])"
   ]
  },
  {
   "cell_type": "markdown",
   "id": "8479ea97",
   "metadata": {},
   "source": [
    "### Question 3\n",
    "Write a function remove_duplicates(lst) that receives a given list as input and returns another list that contains those elements that appear in the input list only once. These elements should be displayed in the order in which they appear in the input list."
   ]
  },
  {
   "cell_type": "code",
   "execution_count": 27,
   "id": "be3c0b44",
   "metadata": {},
   "outputs": [
    {
     "name": "stdout",
     "output_type": "stream",
     "text": [
      "3,4,3,54,5,34,43,\n",
      "['3', ',', '4', '5']\n"
     ]
    }
   ],
   "source": [
    "def remove_duplicates(lst):\n",
    "    res = []\n",
    "    count= 0\n",
    "    for i in lst:\n",
    "        if i not in lst[:count:] + lst[count + 1::]:\n",
    "            res.append(i)\n",
    "        count += 1\n",
    "    return res"
   ]
  },
  {
   "cell_type": "markdown",
   "id": "ac1a1cb7",
   "metadata": {},
   "source": [
    "### Question 4\n",
    "N pins were placed in one row, numbered from left to right with numbers from 1 to N. Then K balls were thrown along this row, while the i-th ball knocked down all pins with numbers from lᵢ to rᵢ inclusive. Your task is to determine which pins are left.\n",
    "\n",
    "**Input:**\n",
    "\n",
    "The program receives as input the number of pins N and the number of throws K. Then there are K pairs of numbers lᵢ, rᵢ, with 1 ≤ lᵢ ≤ rᵢ ≤ N ≤ 100.\n",
    "\n",
    "**Output:**\n",
    "\n",
    "The program should output a sequence of N characters, where the j-th character is “I” if the j-th point is still standing, or “.” if the j-th point has been knocked down.\n",
    "\n",
    "**Hints:**\n",
    "\n",
    "To read a pair of numbers in a line, you can use the following command:\n",
    "\n",
    "          N, K = map(int, input().split())"
   ]
  },
  {
   "cell_type": "code",
   "execution_count": null,
   "id": "1b5869be",
   "metadata": {},
   "outputs": [],
   "source": [
    "n, k = map(int, input().split())\n",
    "s='I'*n\n",
    "while(k):\n",
    "    k-=1\n",
    "    l,r=map(int, input().split())\n",
    "    s=s[:l-1:]+'.'*(r-l+1)+s[r::]\n",
    "print(s)"
   ]
  },
  {
   "cell_type": "markdown",
   "id": "7bdcffa1",
   "metadata": {},
   "source": [
    "### Question 5\n",
    "It is known that 8 queens can be placed on an 8 × 8 board so that they do not beat each other. You are given the arrangement of 8 queens on the board, determine if there is a pair of them that can beat each other.\n",
    "\n",
    "**Input:**\n",
    "\n",
    "The first line contains the number of test cases T (1 ≤ T ≤ 10).\n",
    "\n",
    "The next lines describe the input for each test case.\n",
    "\n",
    "Each test case corresponds to a block of 8 lines that contain 8 pairs of numbers, each number from 1 to 8 is the coordinates of eight queens. \n",
    "\n",
    "**Output:**\n",
    "\n",
    "For each test case, if queens do not beat each other, print 'NO', otherwise print 'YES'.\n",
    "\n",
    "**Hints:**\n",
    "\n",
    "To read a pair of numbers in a line, you can use the following command:\n",
    "\n",
    "          x, y = map(int, input().split())"
   ]
  },
  {
   "cell_type": "code",
   "execution_count": 28,
   "id": "6f6f7a3d",
   "metadata": {},
   "outputs": [
    {
     "ename": "KeyboardInterrupt",
     "evalue": "Interrupted by user",
     "output_type": "error",
     "traceback": [
      "\u001b[0;31m---------------------------------------------------------------------------\u001b[0m",
      "\u001b[0;31mKeyboardInterrupt\u001b[0m                         Traceback (most recent call last)",
      "\u001b[0;32m<ipython-input-28-0433df7d1476>\u001b[0m in \u001b[0;36m<module>\u001b[0;34m\u001b[0m\n\u001b[0;32m----> 1\u001b[0;31m \u001b[0mT\u001b[0m \u001b[0;34m=\u001b[0m \u001b[0mint\u001b[0m\u001b[0;34m(\u001b[0m\u001b[0minput\u001b[0m\u001b[0;34m(\u001b[0m\u001b[0;34m)\u001b[0m\u001b[0;34m)\u001b[0m\u001b[0;34m\u001b[0m\u001b[0;34m\u001b[0m\u001b[0m\n\u001b[0m\u001b[1;32m      2\u001b[0m \u001b[0;32mdef\u001b[0m \u001b[0mqueens\u001b[0m\u001b[0;34m(\u001b[0m\u001b[0;34m)\u001b[0m\u001b[0;34m:\u001b[0m\u001b[0;34m\u001b[0m\u001b[0;34m\u001b[0m\u001b[0m\n\u001b[1;32m      3\u001b[0m     \u001b[0mlst\u001b[0m\u001b[0;34m=\u001b[0m\u001b[0;34m[\u001b[0m\u001b[0;34m]\u001b[0m\u001b[0;34m\u001b[0m\u001b[0;34m\u001b[0m\u001b[0m\n\u001b[1;32m      4\u001b[0m     \u001b[0;32mfor\u001b[0m \u001b[0mi\u001b[0m \u001b[0;32min\u001b[0m \u001b[0mrange\u001b[0m\u001b[0;34m(\u001b[0m\u001b[0;36m8\u001b[0m\u001b[0;34m)\u001b[0m\u001b[0;34m:\u001b[0m\u001b[0;34m\u001b[0m\u001b[0;34m\u001b[0m\u001b[0m\n\u001b[1;32m      5\u001b[0m          \u001b[0mx\u001b[0m\u001b[0;34m,\u001b[0m \u001b[0my\u001b[0m \u001b[0;34m=\u001b[0m \u001b[0mmap\u001b[0m\u001b[0;34m(\u001b[0m\u001b[0mint\u001b[0m\u001b[0;34m,\u001b[0m\u001b[0minput\u001b[0m\u001b[0;34m(\u001b[0m\u001b[0;34m)\u001b[0m\u001b[0;34m.\u001b[0m\u001b[0msplit\u001b[0m\u001b[0;34m(\u001b[0m\u001b[0;34m)\u001b[0m\u001b[0;34m)\u001b[0m\u001b[0;34m\u001b[0m\u001b[0;34m\u001b[0m\u001b[0m\n",
      "\u001b[0;32m/Library/Frameworks/Python.framework/Versions/3.8/lib/python3.8/site-packages/ipykernel/kernelbase.py\u001b[0m in \u001b[0;36mraw_input\u001b[0;34m(self, prompt)\u001b[0m\n\u001b[1;32m    846\u001b[0m                 \u001b[0;34m\"raw_input was called, but this frontend does not support input requests.\"\u001b[0m\u001b[0;34m\u001b[0m\u001b[0;34m\u001b[0m\u001b[0m\n\u001b[1;32m    847\u001b[0m             )\n\u001b[0;32m--> 848\u001b[0;31m         return self._input_request(str(prompt),\n\u001b[0m\u001b[1;32m    849\u001b[0m             \u001b[0mself\u001b[0m\u001b[0;34m.\u001b[0m\u001b[0m_parent_ident\u001b[0m\u001b[0;34m,\u001b[0m\u001b[0;34m\u001b[0m\u001b[0;34m\u001b[0m\u001b[0m\n\u001b[1;32m    850\u001b[0m             \u001b[0mself\u001b[0m\u001b[0;34m.\u001b[0m\u001b[0m_parent_header\u001b[0m\u001b[0;34m,\u001b[0m\u001b[0;34m\u001b[0m\u001b[0;34m\u001b[0m\u001b[0m\n",
      "\u001b[0;32m/Library/Frameworks/Python.framework/Versions/3.8/lib/python3.8/site-packages/ipykernel/kernelbase.py\u001b[0m in \u001b[0;36m_input_request\u001b[0;34m(self, prompt, ident, parent, password)\u001b[0m\n\u001b[1;32m    890\u001b[0m             \u001b[0;32mexcept\u001b[0m \u001b[0mKeyboardInterrupt\u001b[0m\u001b[0;34m:\u001b[0m\u001b[0;34m\u001b[0m\u001b[0;34m\u001b[0m\u001b[0m\n\u001b[1;32m    891\u001b[0m                 \u001b[0;31m# re-raise KeyboardInterrupt, to truncate traceback\u001b[0m\u001b[0;34m\u001b[0m\u001b[0;34m\u001b[0m\u001b[0;34m\u001b[0m\u001b[0m\n\u001b[0;32m--> 892\u001b[0;31m                 \u001b[0;32mraise\u001b[0m \u001b[0mKeyboardInterrupt\u001b[0m\u001b[0;34m(\u001b[0m\u001b[0;34m\"Interrupted by user\"\u001b[0m\u001b[0;34m)\u001b[0m \u001b[0;32mfrom\u001b[0m \u001b[0;32mNone\u001b[0m\u001b[0;34m\u001b[0m\u001b[0;34m\u001b[0m\u001b[0m\n\u001b[0m\u001b[1;32m    893\u001b[0m             \u001b[0;32mexcept\u001b[0m \u001b[0mException\u001b[0m \u001b[0;32mas\u001b[0m \u001b[0me\u001b[0m\u001b[0;34m:\u001b[0m\u001b[0;34m\u001b[0m\u001b[0;34m\u001b[0m\u001b[0m\n\u001b[1;32m    894\u001b[0m                 \u001b[0mself\u001b[0m\u001b[0;34m.\u001b[0m\u001b[0mlog\u001b[0m\u001b[0;34m.\u001b[0m\u001b[0mwarning\u001b[0m\u001b[0;34m(\u001b[0m\u001b[0;34m\"Invalid Message:\"\u001b[0m\u001b[0;34m,\u001b[0m \u001b[0mexc_info\u001b[0m\u001b[0;34m=\u001b[0m\u001b[0;32mTrue\u001b[0m\u001b[0;34m)\u001b[0m\u001b[0;34m\u001b[0m\u001b[0;34m\u001b[0m\u001b[0m\n",
      "\u001b[0;31mKeyboardInterrupt\u001b[0m: Interrupted by user"
     ]
    }
   ],
   "source": [
    "T = int(input())\n",
    "def queens():\n",
    "    lst=[]\n",
    "    for i in range(8):\n",
    "         x, y = map(int,input().split())\n",
    "         lst.append((x, y))\n",
    "    res = 1\n",
    "    for i in range(8):\n",
    "        for j in range(i + 1, 8):\n",
    "            if(lst[i][0] == lst[j][0]): res = 0\n",
    "            if(lst[i][1] == lst[j][1]): res = 0\n",
    "            if(lst[i][0] + lst[i][1] == lst[j][0] + lst[j][1]): res = 0\n",
    "            if(lst[i][0] - lst[i][1] == lst[j][0] - lst[j][1]): res = 0\n",
    "    return res\n",
    "\n",
    "while T:\n",
    "    T -= 1\n",
    "    x = 1 - queens()\n",
    "    print('YES' * x + 'NO' * (1 - x))"
   ]
  },
  {
   "cell_type": "code",
   "execution_count": null,
   "id": "d784141e",
   "metadata": {},
   "outputs": [],
   "source": []
  }
 ],
 "metadata": {
  "kernelspec": {
   "display_name": "Python 3",
   "language": "python",
   "name": "python3"
  },
  "language_info": {
   "codemirror_mode": {
    "name": "ipython",
    "version": 3
   },
   "file_extension": ".py",
   "mimetype": "text/x-python",
   "name": "python",
   "nbconvert_exporter": "python",
   "pygments_lexer": "ipython3",
   "version": "3.8.5"
  }
 },
 "nbformat": 4,
 "nbformat_minor": 5
}
