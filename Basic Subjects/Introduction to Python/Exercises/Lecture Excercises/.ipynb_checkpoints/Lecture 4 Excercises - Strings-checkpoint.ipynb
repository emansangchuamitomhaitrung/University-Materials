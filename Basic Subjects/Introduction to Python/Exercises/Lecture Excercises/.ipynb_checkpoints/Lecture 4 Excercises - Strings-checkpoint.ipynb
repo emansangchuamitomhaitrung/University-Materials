{
 "cells": [
  {
   "cell_type": "markdown",
   "id": "6504d00d",
   "metadata": {},
   "source": [
    "# Lecture 4. Strings"
   ]
  },
  {
   "cell_type": "markdown",
   "id": "26bb044c",
   "metadata": {},
   "source": [
    "### Question 1\n",
    "Write a function to_uppercase(str) to convert a given string to all uppercase if it contains at least 2 uppercase characters in the first 4 characters."
   ]
  },
  {
   "cell_type": "code",
   "execution_count": 11,
   "id": "6be74401",
   "metadata": {},
   "outputs": [
    {
     "name": "stdout",
     "output_type": "stream",
     "text": [
      "aBZ2 da@s hi\n",
      "ABZ2 DA@S HI\n"
     ]
    }
   ],
   "source": [
    "def to_uppercase(str):\n",
    "    count = 0\n",
    "    for i in str[:4]:\n",
    "        if i.isupper():\n",
    "            count += 1\n",
    "    if count >= 2:\n",
    "        return str.upper()\n",
    "    else:\n",
    "        return str\n",
    "\n",
    "print(to_uppercase(str(input())))"
   ]
  },
  {
   "cell_type": "markdown",
   "id": "c9cbd081",
   "metadata": {},
   "source": [
    "### Question 2 \n",
    "Write a recursive function reverse_string(str) to reverse a given string."
   ]
  },
  {
   "cell_type": "code",
   "execution_count": 7,
   "id": "50e010ba",
   "metadata": {},
   "outputs": [
    {
     "name": "stdout",
     "output_type": "stream",
     "text": [
      "asdsd\n",
      "dsdsa\n"
     ]
    }
   ],
   "source": [
    "def reverse_string(string):\n",
    "    if len(string) == 0:\n",
    "        return string\n",
    "    else:\n",
    "        return reverse_string(string[1:]) + string[0]\n",
    "\n",
    "print(reverse_string(str(input())))"
   ]
  },
  {
   "cell_type": "markdown",
   "id": "3a472051",
   "metadata": {},
   "source": [
    "### Question 3\n",
    "Write a function substrings_count(str) to count the number of substrings with the same first and last characters"
   ]
  },
  {
   "cell_type": "code",
   "execution_count": 8,
   "id": "4c82aed1",
   "metadata": {},
   "outputs": [
    {
     "name": "stdout",
     "output_type": "stream",
     "text": [
      "aa bbcd \n",
      "11\n"
     ]
    }
   ],
   "source": [
    "def substrings_count(str):\n",
    "    count = 0\n",
    "    n = len(str)\n",
    "    for i in range(n):\n",
    "        for j in range(i, n):\n",
    "            if (str[i] == str[j]):\n",
    "                count += 1\n",
    "    return count\n",
    "\n",
    "print(substrings_count(str(input())))"
   ]
  },
  {
   "cell_type": "markdown",
   "id": "fcd70e30",
   "metadata": {},
   "source": [
    "### Question 4\n",
    "Given a string, write a recursive function is_palindrome(str) to check if it is palindrome or not. The function returns 'YES' if the input string is palindrome. Otherwise, the function returns 'NO'. \n",
    "A string is said to be palindrome if the reverse of the string is the same as string, where spaces are ignored. "
   ]
  },
  {
   "cell_type": "code",
   "execution_count": 9,
   "id": "6f2f3b73",
   "metadata": {},
   "outputs": [
    {
     "name": "stdout",
     "output_type": "stream",
     "text": [
      "borrow or rob\n",
      "YES\n"
     ]
    }
   ],
   "source": [
    "def is_palindrome(str):\n",
    "    str1 = ''\n",
    "    str1 += str.replace(' ', '')\n",
    "    if str1 == str1[::-1]:\n",
    "        return 'YES'\n",
    "    else:\n",
    "        return 'NO'\n",
    "\n",
    "print(is_palindrome(str(input())))\n"
   ]
  },
  {
   "cell_type": "markdown",
   "id": "6e514d0e",
   "metadata": {},
   "source": [
    "### Question 5\n",
    "Write a program to remove all consecutive duplicated characters of a given string. The output must be written in lowercase. The program is not case-sensitive. For example, in the test case below, characters 'c' and 'C' are treated as the same one, and in the output, the lowercase character 'c' is written out. "
   ]
  },
  {
   "cell_type": "code",
   "execution_count": 10,
   "id": "1b51f3ff",
   "metadata": {},
   "outputs": [
    {
     "name": "stdout",
     "output_type": "stream",
     "text": [
      "abb  bCCcCCC1   11$$\n",
      "ab bc1 1$\n"
     ]
    }
   ],
   "source": [
    "def remove_dup(s):\n",
    "    str = ''\n",
    "    chars = list(s.lower())\n",
    "    prev = None\n",
    "    k = 0\n",
    "\n",
    "    for c in s.lower():\n",
    "        if prev != c:\n",
    "            chars[k] = c\n",
    "            prev = c\n",
    "            k = k + 1\n",
    "            str += c\n",
    "    return str.lower()\n",
    "\n",
    "\n",
    "print(remove_dup(str(input())))\n"
   ]
  }
 ],
 "metadata": {
  "kernelspec": {
   "display_name": "Python 3",
   "language": "python",
   "name": "python3"
  },
  "language_info": {
   "codemirror_mode": {
    "name": "ipython",
    "version": 3
   },
   "file_extension": ".py",
   "mimetype": "text/x-python",
   "name": "python",
   "nbconvert_exporter": "python",
   "pygments_lexer": "ipython3",
   "version": "3.8.5"
  }
 },
 "nbformat": 4,
 "nbformat_minor": 5
}
