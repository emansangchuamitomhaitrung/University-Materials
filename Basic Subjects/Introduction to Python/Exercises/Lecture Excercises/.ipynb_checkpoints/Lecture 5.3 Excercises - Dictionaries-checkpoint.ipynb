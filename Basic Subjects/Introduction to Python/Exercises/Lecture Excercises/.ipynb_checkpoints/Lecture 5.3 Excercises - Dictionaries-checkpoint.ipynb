{
 "cells": [
  {
   "cell_type": "markdown",
   "id": "ce59a412",
   "metadata": {},
   "source": [
    "## Lecture 5.3. Dictionaries"
   ]
  },
  {
   "cell_type": "markdown",
   "id": "bdf3527d",
   "metadata": {},
   "source": [
    "### Question 1\n",
    "In US, the president is not elected by direct vote, but by a two-level vote. First, elections are held in each state and the winner of the elections in that state is determined. Then state elections are held: in these elections, each state has a certain number of votes - the number of electors from that state. In practice, all state electors vote according to the results of intra-state voting, that is, states with a different number of votes vote in the final stage of elections. You know who each state voted for and how many votes were cast by that state. Summarize the results of the elections: for each of the voting participants, determine the number of votes cast for him.\n",
    "\n",
    "**Input:**\n",
    "\n",
    "Each line of the input file contains the name of the candidate for which the electors of that state are voting, then separated by a space is the number of electors who voted for this candidate.\n",
    "\n",
    "**Output:**\n",
    "\n",
    "Print the surnames of all candidates in lexicographic order, then the number of votes cast for them.\n",
    "\n",
    "**Hints:**\n",
    "\n",
    "To read all input text lines, you can use the template below:"
   ]
  },
  {
   "cell_type": "code",
   "execution_count": null,
   "id": "23337e91",
   "metadata": {},
   "outputs": [],
   "source": [
    "text = []\n",
    "while True:\n",
    "    try:\n",
    "        text.append(input())\n",
    "    except:\n",
    "        break"
   ]
  },
  {
   "cell_type": "code",
   "execution_count": null,
   "id": "aa363a40",
   "metadata": {},
   "outputs": [],
   "source": [
    "text = []\n",
    "while True:\n",
    "    try:\n",
    "        text.append(input())\n",
    "    except:\n",
    "        break\n",
    "\n",
    "str = ' '.join(text)\n",
    "x = [i for i in str.split(' ')]\n",
    "\n",
    "us = dict()\n",
    "for i in range(len(x)):\n",
    "    if i % 2 == 1:\n",
    "        x[i] = int(x[i])\n",
    "for i in range(len(x)):\n",
    "    if i % 2 == 0:\n",
    "        us[x[i]] = us.get(x[i], 0) + x[i + 1]\n",
    "\n",
    "for k ,v in sorted(us.items()):\n",
    "    print(k, v)\n"
   ]
  },
  {
   "cell_type": "markdown",
   "id": "5ff1f7eb",
   "metadata": {},
   "source": [
    "### Question 2\n",
    "You are given a text. Write a program to print all the words in the text, one for each line. Words should be sorted in descending order of their number of occurrences in the text. Those words with the same number of occurrences should be sorted in lexicographic order.\n",
    "\n",
    "**Hints:**\n",
    "\n",
    "To read all input text lines, you can use the template below:"
   ]
  },
  {
   "cell_type": "code",
   "execution_count": 1,
   "id": "036e8f7c",
   "metadata": {},
   "outputs": [],
   "source": [
    "text = []\n",
    "while True:\n",
    "    try:\n",
    "        text.append(input())\n",
    "    except:\n",
    "        break"
   ]
  },
  {
   "cell_type": "code",
   "execution_count": 3,
   "id": "27324c68",
   "metadata": {},
   "outputs": [
    {
     "name": "stdout",
     "output_type": "stream",
     "text": [
      "hi\n",
      "hi\n",
      "what is your name\n",
      "my name is bond\n",
      "james bond\n",
      "my name is damme\n",
      "van damme\n",
      "claude van damme\n",
      "jean claude van damme\n",
      "damme\n",
      "is\n",
      "name\n",
      "van\n",
      "bond\n",
      "claude\n",
      "hi\n",
      "my\n",
      "james\n",
      "jean\n",
      "what\n",
      "your\n"
     ]
    }
   ],
   "source": [
    "from collections import Counter\n",
    "text = []\n",
    "while True:\n",
    "    try:\n",
    "        text.append(input())\n",
    "    except:\n",
    "        break\n",
    "\n",
    "# convert the given lists into a single list\n",
    "str = ' '.join(text)\n",
    "x = [i for i in str.split(' ')]\n",
    "\n",
    "# sort by occurence\n",
    "x_sort = Counter(x).most_common()\n",
    "\n",
    "# finding values with the same occurence\n",
    "same_occurence = {}\n",
    "for key, value in dict(x_sort).items():\n",
    "    if value not in same_occurence:\n",
    "        same_occurence[value] = [key]\n",
    "    else:\n",
    "        same_occurence[value].append(key)\n",
    "\n",
    "# print each element in the sorted\n",
    "for i in same_occurence.values():\n",
    "    i.sort()\n",
    "    for j in i:\n",
    "        print(j)\n"
   ]
  },
  {
   "cell_type": "markdown",
   "id": "79ba103c",
   "metadata": {},
   "source": [
    "### Question 3\n",
    "You are given a text. A word is a sequence of non-blank consecutive characters. Words are separated by one or more spaces or end-of-line characters. For each word from this text, you have to count how many times it has occurred earlier in this text."
   ]
  },
  {
   "cell_type": "code",
   "execution_count": null,
   "id": "f56f082c",
   "metadata": {},
   "outputs": [],
   "source": [
    "from collections import Counter\n",
    "text = []\n",
    "while True:\n",
    "    try:\n",
    "        text.append(input())\n",
    "    except:\n",
    "        break\n",
    "str  = ' '.join(text)\n",
    "x = [i for i in str.split(' ')]\n",
    "count = 0\n",
    "res = []\n",
    "for i in range(1, len(x) + 1):\n",
    "    k = x[:i + 1]\n",
    "    count = k.count(k[i - 1]) - 1\n",
    "    res.append(count)\n",
    "for i in res:\n",
    "    print(i, end = ' ')"
   ]
  },
  {
   "cell_type": "markdown",
   "id": "35a086f6",
   "metadata": {},
   "source": [
    "### Question 4\n",
    "In the family tree, each person, except for the ancestor, has exactly one parent. Each element of the tree is associated with a non-negative integer called the height. The ancestor has a height of 0, any other element has a height that is greater more 1 than its parent. Given a family tree, your task is to determine the height of all its elements.\n",
    "\n",
    "**Input:** \n",
    "\n",
    "The first line contains the number of elements in the family tree N. \n",
    "\n",
    "N-1 next lines specify the parent for each element of the tree, except for the ancestor. Each line has the form descendant_name parent_name.\n",
    "\n",
    "**Output:**\n",
    "\n",
    "The program should list all the elements of the tree in lexicographic order. After printing the name of each element, it should print its height, respectively.\n",
    "\n"
   ]
  },
  {
   "cell_type": "code",
   "execution_count": 5,
   "id": "f687ac6f",
   "metadata": {},
   "outputs": [
    {
     "name": "stdout",
     "output_type": "stream",
     "text": [
      "9\n",
      "alexei peter1\n",
      "elizabeth peter1\n",
      "anna peter1\n",
      "peter2 alexei\n",
      "peter3 anna\n",
      "paul1 peter3\n",
      "alexander1 paul1\n",
      "nicholaus1 paul1\n",
      "alexander1 4\n",
      "alexei 1\n",
      "anna 1\n",
      "elizabeth 1\n",
      "nicholaus1 4\n",
      "paul1 3\n",
      "peter1 0\n",
      "peter2 2\n",
      "peter3 2\n"
     ]
    }
   ],
   "source": [
    "N = int(input())\n",
    "text = []\n",
    "while True:\n",
    "    try:\n",
    "        text.append(input())\n",
    "    except:\n",
    "        break\n",
    "\n",
    "parent_of = {}\n",
    "str1 = ' '.join(text)\n",
    "text1 = [i for i in str1.split(' ')]\n",
    "\n",
    "for i in text:\n",
    "    str = ''.join(i)\n",
    "    pair = [j for j in str.split(' ')]\n",
    "    for k in range(len(pair)):\n",
    "        parent_of[pair[0]] = pair[1]\n",
    "\n",
    "temp = [i for i in parent_of.keys()]\n",
    "\n",
    "# find the ancestor\n",
    "ancestor = ''\n",
    "ancestor_set = set()\n",
    "for i in parent_of.keys():\n",
    "    if parent_of[i] not in temp:\n",
    "        ancestor_set.add(parent_of[i])\n",
    "# recursion\n",
    "\n",
    "def height(member, d):\n",
    "    if member in d:\n",
    "        return d[member]\n",
    "\n",
    "    h = height(parent_of[member], d) + 1\n",
    "    d[member] = h\n",
    "    return h\n",
    "for i in ancestor_set:\n",
    "    ancestor += i\n",
    "d = {ancestor: 0}\n",
    "\n",
    "for k, v in parent_of.items():\n",
    "    if v in ancestor_set:\n",
    "        d[k] = 1\n",
    "    d[k] = height(k, d)\n",
    "\n",
    "\n",
    "for k, v in sorted(d.items()):\n",
    "    print(k, v)"
   ]
  },
  {
   "cell_type": "markdown",
   "id": "b02dfa5b",
   "metadata": {},
   "source": [
    "### Question 5\n",
    "You are given a sequence of integers. A subsequence is a sequence of elements obtained by removing some elements (or removing nothing) from the original one. An alternating subsequence is a subsequence, whose values change sign, i.e. every two successive elements in the subsequence must have opposite signs. \n",
    "\n",
    "Your task is to find the longest alternating subsequence with elements whose absolute values are strictly increasing.\n",
    "\n",
    "**Input:**\n",
    "\n",
    "The first line contains the number of elements N (1 ≤ N ≤ 1000).\n",
    "\n",
    "The second line contains N elements of the sequence separated by spaces.\n",
    "\n",
    "**Output:**\n",
    "\n",
    "Print out the length of the longest alternating subsequence.\n",
    "\n",
    "**Hints:**\n",
    "\n",
    "In the example below, one of the longest alternating subsequences is 17 -20 23 -32 38 -40"
   ]
  },
  {
   "cell_type": "code",
   "execution_count": 6,
   "id": "d638eb7a",
   "metadata": {},
   "outputs": [
    {
     "name": "stdout",
     "output_type": "stream",
     "text": [
      "6\n",
      "17 -20 -21 11 39 23 -24 5 -32 38 22 -14 -40 9 32\n",
      "6\n"
     ]
    }
   ],
   "source": [
    "N = int(input())\n",
    "arr = list(map(int, input().split()))\n",
    "\n",
    "def lis(arr, i, d):\n",
    "    if i in d:\n",
    "        return d[i]\n",
    "    else:\n",
    "\n",
    "        res = 1\n",
    "\n",
    "        for j in range(0, abs(i)):\n",
    "\n",
    "            if abs(arr[i]) > abs(arr[j]) and arr[i] * arr[j] <= 0:\n",
    "                res = max(res, 1 + lis(arr, j, d))\n",
    "    d[i] = res\n",
    "    return res\n",
    "\n",
    "def lis_ans(arr):\n",
    "    ans = 0\n",
    "    d = {0: 1}\n",
    "    for i in range(len(arr)):\n",
    "        ans = max(ans, lis(arr, i, d))\n",
    "    return ans\n",
    "\n",
    "print(lis_ans(arr))"
   ]
  }
 ],
 "metadata": {
  "kernelspec": {
   "display_name": "Python 3",
   "language": "python",
   "name": "python3"
  },
  "language_info": {
   "codemirror_mode": {
    "name": "ipython",
    "version": 3
   },
   "file_extension": ".py",
   "mimetype": "text/x-python",
   "name": "python",
   "nbconvert_exporter": "python",
   "pygments_lexer": "ipython3",
   "version": "3.8.5"
  }
 },
 "nbformat": 4,
 "nbformat_minor": 5
}
